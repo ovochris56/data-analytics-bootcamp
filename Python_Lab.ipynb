{
 "cells": [
  {
   "cell_type": "code",
   "execution_count": 5,
   "id": "283af21b-ad89-43fd-bf4b-351298a55d4a",
   "metadata": {},
   "outputs": [],
   "source": [
    "#Part 1 Start\n",
    "\n",
    "#import libraries\n",
    "import pandas as pd\n",
    "import numpy as np\n",
    "import matplotlib.pyplot as plt\n",
    "import seaborn as sns\n",
    "\n",
    "\n",
    "#import csv\n",
    "df = pd.read_csv('job.csv')"
   ]
  },
  {
   "cell_type": "code",
   "execution_count": 6,
   "id": "b9428f8b-3e09-4528-9dc9-5196e22c1aff",
   "metadata": {},
   "outputs": [
    {
     "data": {
      "text/html": [
       "<div>\n",
       "<style scoped>\n",
       "    .dataframe tbody tr th:only-of-type {\n",
       "        vertical-align: middle;\n",
       "    }\n",
       "\n",
       "    .dataframe tbody tr th {\n",
       "        vertical-align: top;\n",
       "    }\n",
       "\n",
       "    .dataframe thead th {\n",
       "        text-align: right;\n",
       "    }\n",
       "</style>\n",
       "<table border=\"1\" class=\"dataframe\">\n",
       "  <thead>\n",
       "    <tr style=\"text-align: right;\">\n",
       "      <th></th>\n",
       "      <th>job_id</th>\n",
       "      <th>company_id</th>\n",
       "      <th>title</th>\n",
       "      <th>description</th>\n",
       "      <th>max_salary</th>\n",
       "      <th>med_salary</th>\n",
       "      <th>min_salary</th>\n",
       "      <th>pay_period</th>\n",
       "      <th>formatted_work_type</th>\n",
       "      <th>location</th>\n",
       "      <th>...</th>\n",
       "      <th>expiry</th>\n",
       "      <th>closed_time</th>\n",
       "      <th>formatted_experience_level</th>\n",
       "      <th>skills_desc</th>\n",
       "      <th>listed_time</th>\n",
       "      <th>posting_domain</th>\n",
       "      <th>sponsored</th>\n",
       "      <th>work_type</th>\n",
       "      <th>currency</th>\n",
       "      <th>compensation_type</th>\n",
       "    </tr>\n",
       "  </thead>\n",
       "  <tbody>\n",
       "    <tr>\n",
       "      <th>0</th>\n",
       "      <td>85008768</td>\n",
       "      <td>NaN</td>\n",
       "      <td>Licensed Insurance Agent</td>\n",
       "      <td>While many industries were hurt by the last fe...</td>\n",
       "      <td>52000.0</td>\n",
       "      <td>NaN</td>\n",
       "      <td>45760.0</td>\n",
       "      <td>YEARLY</td>\n",
       "      <td>Full-time</td>\n",
       "      <td>Chico, CA</td>\n",
       "      <td>...</td>\n",
       "      <td>1.710000e+12</td>\n",
       "      <td>NaN</td>\n",
       "      <td>NaN</td>\n",
       "      <td>NaN</td>\n",
       "      <td>1.690000e+12</td>\n",
       "      <td>NaN</td>\n",
       "      <td>1</td>\n",
       "      <td>FULL_TIME</td>\n",
       "      <td>USD</td>\n",
       "      <td>BASE_SALARY</td>\n",
       "    </tr>\n",
       "    <tr>\n",
       "      <th>1</th>\n",
       "      <td>133114754</td>\n",
       "      <td>77766802.0</td>\n",
       "      <td>Sales Manager</td>\n",
       "      <td>Are you a dynamic and creative marketing profe...</td>\n",
       "      <td>NaN</td>\n",
       "      <td>NaN</td>\n",
       "      <td>NaN</td>\n",
       "      <td>NaN</td>\n",
       "      <td>Full-time</td>\n",
       "      <td>Santa Clarita, CA</td>\n",
       "      <td>...</td>\n",
       "      <td>1.700000e+12</td>\n",
       "      <td>NaN</td>\n",
       "      <td>NaN</td>\n",
       "      <td>NaN</td>\n",
       "      <td>1.690000e+12</td>\n",
       "      <td>NaN</td>\n",
       "      <td>0</td>\n",
       "      <td>FULL_TIME</td>\n",
       "      <td>NaN</td>\n",
       "      <td>NaN</td>\n",
       "    </tr>\n",
       "    <tr>\n",
       "      <th>2</th>\n",
       "      <td>133196985</td>\n",
       "      <td>1089558.0</td>\n",
       "      <td>Model Risk Auditor</td>\n",
       "      <td>Join Us as a Model Risk Auditor – Showcase You...</td>\n",
       "      <td>NaN</td>\n",
       "      <td>NaN</td>\n",
       "      <td>NaN</td>\n",
       "      <td>NaN</td>\n",
       "      <td>Contract</td>\n",
       "      <td>New York, NY</td>\n",
       "      <td>...</td>\n",
       "      <td>1.700000e+12</td>\n",
       "      <td>NaN</td>\n",
       "      <td>NaN</td>\n",
       "      <td>NaN</td>\n",
       "      <td>1.690000e+12</td>\n",
       "      <td>NaN</td>\n",
       "      <td>0</td>\n",
       "      <td>CONTRACT</td>\n",
       "      <td>NaN</td>\n",
       "      <td>NaN</td>\n",
       "    </tr>\n",
       "    <tr>\n",
       "      <th>3</th>\n",
       "      <td>381055942</td>\n",
       "      <td>96654609.0</td>\n",
       "      <td>Business Manager</td>\n",
       "      <td>Business ManagerFirst Baptist Church ForneyFor...</td>\n",
       "      <td>NaN</td>\n",
       "      <td>NaN</td>\n",
       "      <td>NaN</td>\n",
       "      <td>NaN</td>\n",
       "      <td>Full-time</td>\n",
       "      <td>Forney, TX</td>\n",
       "      <td>...</td>\n",
       "      <td>1.700000e+12</td>\n",
       "      <td>NaN</td>\n",
       "      <td>NaN</td>\n",
       "      <td>NaN</td>\n",
       "      <td>1.690000e+12</td>\n",
       "      <td>NaN</td>\n",
       "      <td>0</td>\n",
       "      <td>FULL_TIME</td>\n",
       "      <td>NaN</td>\n",
       "      <td>NaN</td>\n",
       "    </tr>\n",
       "    <tr>\n",
       "      <th>4</th>\n",
       "      <td>529257371</td>\n",
       "      <td>1244539.0</td>\n",
       "      <td>NY Studio Assistant</td>\n",
       "      <td>YOU COULD BE ONE OF THE MAGIC MAKERS\\nKen Fulk...</td>\n",
       "      <td>NaN</td>\n",
       "      <td>NaN</td>\n",
       "      <td>NaN</td>\n",
       "      <td>NaN</td>\n",
       "      <td>Full-time</td>\n",
       "      <td>New York, NY</td>\n",
       "      <td>...</td>\n",
       "      <td>1.710000e+12</td>\n",
       "      <td>NaN</td>\n",
       "      <td>NaN</td>\n",
       "      <td>NaN</td>\n",
       "      <td>1.690000e+12</td>\n",
       "      <td>NaN</td>\n",
       "      <td>1</td>\n",
       "      <td>FULL_TIME</td>\n",
       "      <td>NaN</td>\n",
       "      <td>NaN</td>\n",
       "    </tr>\n",
       "  </tbody>\n",
       "</table>\n",
       "<p>5 rows × 27 columns</p>\n",
       "</div>"
      ],
      "text/plain": [
       "      job_id  company_id                     title  \\\n",
       "0   85008768         NaN  Licensed Insurance Agent   \n",
       "1  133114754  77766802.0             Sales Manager   \n",
       "2  133196985   1089558.0        Model Risk Auditor   \n",
       "3  381055942  96654609.0          Business Manager   \n",
       "4  529257371   1244539.0       NY Studio Assistant   \n",
       "\n",
       "                                         description  max_salary  med_salary  \\\n",
       "0  While many industries were hurt by the last fe...     52000.0         NaN   \n",
       "1  Are you a dynamic and creative marketing profe...         NaN         NaN   \n",
       "2  Join Us as a Model Risk Auditor – Showcase You...         NaN         NaN   \n",
       "3  Business ManagerFirst Baptist Church ForneyFor...         NaN         NaN   \n",
       "4  YOU COULD BE ONE OF THE MAGIC MAKERS\\nKen Fulk...         NaN         NaN   \n",
       "\n",
       "   min_salary pay_period formatted_work_type           location  ...  \\\n",
       "0     45760.0     YEARLY           Full-time          Chico, CA  ...   \n",
       "1         NaN        NaN           Full-time  Santa Clarita, CA  ...   \n",
       "2         NaN        NaN            Contract       New York, NY  ...   \n",
       "3         NaN        NaN           Full-time         Forney, TX  ...   \n",
       "4         NaN        NaN           Full-time       New York, NY  ...   \n",
       "\n",
       "         expiry  closed_time  formatted_experience_level  skills_desc  \\\n",
       "0  1.710000e+12          NaN                         NaN          NaN   \n",
       "1  1.700000e+12          NaN                         NaN          NaN   \n",
       "2  1.700000e+12          NaN                         NaN          NaN   \n",
       "3  1.700000e+12          NaN                         NaN          NaN   \n",
       "4  1.710000e+12          NaN                         NaN          NaN   \n",
       "\n",
       "    listed_time posting_domain sponsored  work_type  currency  \\\n",
       "0  1.690000e+12            NaN         1  FULL_TIME       USD   \n",
       "1  1.690000e+12            NaN         0  FULL_TIME       NaN   \n",
       "2  1.690000e+12            NaN         0   CONTRACT       NaN   \n",
       "3  1.690000e+12            NaN         0  FULL_TIME       NaN   \n",
       "4  1.690000e+12            NaN         1  FULL_TIME       NaN   \n",
       "\n",
       "  compensation_type  \n",
       "0       BASE_SALARY  \n",
       "1               NaN  \n",
       "2               NaN  \n",
       "3               NaN  \n",
       "4               NaN  \n",
       "\n",
       "[5 rows x 27 columns]"
      ]
     },
     "execution_count": 6,
     "metadata": {},
     "output_type": "execute_result"
    }
   ],
   "source": [
    "#Use the head() function to inspect the first few rows.\n",
    "df.head()"
   ]
  },
  {
   "cell_type": "code",
   "execution_count": 7,
   "id": "5e18c3fd-27b0-47c6-a691-2f610058d334",
   "metadata": {},
   "outputs": [
    {
     "name": "stdout",
     "output_type": "stream",
     "text": [
      "Missing Data:\n",
      " job_id                            0\n",
      "company_id                      366\n",
      "title                             0\n",
      "description                       1\n",
      "max_salary                    10365\n",
      "med_salary                    14905\n",
      "min_salary                    10365\n",
      "pay_period                     9384\n",
      "formatted_work_type               0\n",
      "location                          0\n",
      "applies                        7186\n",
      "original_listed_time              0\n",
      "remote_allowed                13546\n",
      "views                          2763\n",
      "job_posting_url                   0\n",
      "application_url                6091\n",
      "application_type                  0\n",
      "expiry                            0\n",
      "closed_time                   14958\n",
      "formatted_experience_level     4902\n",
      "skills_desc                   15742\n",
      "listed_time                       0\n",
      "posting_domain                 6842\n",
      "sponsored                         0\n",
      "work_type                         0\n",
      "currency                       9384\n",
      "compensation_type              9384\n",
      "dtype: int64\n"
     ]
    }
   ],
   "source": [
    "#Check for missing data and data types. Apply basic data cleaning like filling in or dropping missing values\n",
    "\n",
    "# Checking for missing data\n",
    "print(\"Missing Data:\\n\", df.isnull().sum())"
   ]
  },
  {
   "cell_type": "code",
   "execution_count": 8,
   "id": "68db8b0b-2098-4c8b-a58e-5691881ed6f4",
   "metadata": {},
   "outputs": [
    {
     "name": "stdout",
     "output_type": "stream",
     "text": [
      "\n",
      "Data Types:\n",
      " job_id                          int64\n",
      "company_id                    float64\n",
      "title                          object\n",
      "description                    object\n",
      "max_salary                    float64\n",
      "med_salary                    float64\n",
      "min_salary                    float64\n",
      "pay_period                     object\n",
      "formatted_work_type            object\n",
      "location                       object\n",
      "applies                       float64\n",
      "original_listed_time          float64\n",
      "remote_allowed                float64\n",
      "views                         float64\n",
      "job_posting_url                object\n",
      "application_url                object\n",
      "application_type               object\n",
      "expiry                        float64\n",
      "closed_time                   float64\n",
      "formatted_experience_level     object\n",
      "skills_desc                    object\n",
      "listed_time                   float64\n",
      "posting_domain                 object\n",
      "sponsored                       int64\n",
      "work_type                      object\n",
      "currency                       object\n",
      "compensation_type              object\n",
      "dtype: object\n"
     ]
    }
   ],
   "source": [
    "#Check for data types\n",
    "print(\"\\nData Types:\\n\", df.dtypes)"
   ]
  },
  {
   "cell_type": "code",
   "execution_count": 9,
   "id": "cd81fc5c-64f5-4ad4-96e4-69f5472ccca7",
   "metadata": {},
   "outputs": [
    {
     "data": {
      "text/plain": [
       "0        41167.664404\n",
       "1        41167.664404\n",
       "2        41167.664404\n",
       "3        41167.664404\n",
       "4        41167.664404\n",
       "             ...     \n",
       "15881    41167.664404\n",
       "15882    41167.664404\n",
       "15883    41167.664404\n",
       "15884    41167.664404\n",
       "15885    41167.664404\n",
       "Name: med_salary, Length: 15886, dtype: float64"
      ]
     },
     "execution_count": 9,
     "metadata": {},
     "output_type": "execute_result"
    }
   ],
   "source": [
    "#Data Cleaning: Check for missing data and data types. \n",
    "#Apply basic data cleaning like filling in or dropping missing values..\n",
    "#Filling missing med_salary values with the mean\n",
    "df['med_salary'].fillna(df['med_salary'].mean())"
   ]
  },
  {
   "cell_type": "code",
   "execution_count": 10,
   "id": "f89ecd95-48ba-40d5-847b-7e4e9cc15d1d",
   "metadata": {},
   "outputs": [
    {
     "data": {
      "text/plain": [
       "0         45760.000000\n",
       "1         62352.218073\n",
       "2         62352.218073\n",
       "3         62352.218073\n",
       "4         62352.218073\n",
       "             ...      \n",
       "15881     62352.218073\n",
       "15882     62352.218073\n",
       "15883     62352.218073\n",
       "15884    110000.000000\n",
       "15885     62352.218073\n",
       "Name: min_salary, Length: 15886, dtype: float64"
      ]
     },
     "execution_count": 10,
     "metadata": {},
     "output_type": "execute_result"
    }
   ],
   "source": [
    "df['min_salary'].fillna(df['min_salary'].mean())"
   ]
  },
  {
   "cell_type": "code",
   "execution_count": 11,
   "id": "ffcf80f6-8e27-4f8d-ab52-94556795a48d",
   "metadata": {},
   "outputs": [
    {
     "data": {
      "text/plain": [
       "0         52000.000000\n",
       "1         88336.222112\n",
       "2         88336.222112\n",
       "3         88336.222112\n",
       "4         88336.222112\n",
       "             ...      \n",
       "15881     88336.222112\n",
       "15882     88336.222112\n",
       "15883     88336.222112\n",
       "15884    135000.000000\n",
       "15885     88336.222112\n",
       "Name: max_salary, Length: 15886, dtype: float64"
      ]
     },
     "execution_count": 11,
     "metadata": {},
     "output_type": "execute_result"
    }
   ],
   "source": [
    "df['max_salary'].fillna(df['max_salary'].mean())"
   ]
  },
  {
   "cell_type": "code",
   "execution_count": 13,
   "id": "2169b5a7-0c2b-42c9-b6d1-0d20f52493bd",
   "metadata": {},
   "outputs": [
    {
     "data": {
      "text/plain": [
       "0        Dont care\n",
       "1        Dont care\n",
       "2        Dont care\n",
       "3        Dont care\n",
       "4        Dont care\n",
       "           ...    \n",
       "15881    Dont care\n",
       "15882    Dont care\n",
       "15883    Dont care\n",
       "15884    Dont care\n",
       "15885    Dont care\n",
       "Name: remote_allowed, Length: 15886, dtype: object"
      ]
     },
     "execution_count": 13,
     "metadata": {},
     "output_type": "execute_result"
    }
   ],
   "source": [
    "# Data Cleaning\n",
    "# Filling missing med_salary values with the mean\n",
    "df['remote_allowed'].fillna('Dont care')"
   ]
  },
  {
   "cell_type": "code",
   "execution_count": null,
   "id": "a219b582-412a-4e0f-9859-ad843e0267b8",
   "metadata": {},
   "outputs": [],
   "source": [
    "# Dropping rows where field is missing\n",
    "df.dropna(subset=['application_url', 'posting_domain'], inplace=True)\n",
    "\n",
    "#To remove entire column\n",
    "#df.drop(['remote_allowed'], axis=1)\n",
    "\n",
    "#axis row is 0, column is 1"
   ]
  },
  {
   "cell_type": "code",
   "execution_count": null,
   "id": "5978edb2-3206-4ea8-aa82-ed007d56e3ef",
   "metadata": {},
   "outputs": [],
   "source": [
    "# Display the cleaned DataFrame\n",
    "print(\"\\nCleaned DataFrame:\\n\", df)"
   ]
  },
  {
   "cell_type": "code",
   "execution_count": null,
   "id": "046085e4-8901-4bc0-a49c-8ce42ef544c8",
   "metadata": {},
   "outputs": [],
   "source": [
    "#Part 2: Exploratory Data Analysis"
   ]
  },
  {
   "cell_type": "code",
   "execution_count": 14,
   "id": "575713ad-8554-4cbc-b032-db02e669ef5d",
   "metadata": {},
   "outputs": [
    {
     "data": {
      "text/html": [
       "<div>\n",
       "<style scoped>\n",
       "    .dataframe tbody tr th:only-of-type {\n",
       "        vertical-align: middle;\n",
       "    }\n",
       "\n",
       "    .dataframe tbody tr th {\n",
       "        vertical-align: top;\n",
       "    }\n",
       "\n",
       "    .dataframe thead th {\n",
       "        text-align: right;\n",
       "    }\n",
       "</style>\n",
       "<table border=\"1\" class=\"dataframe\">\n",
       "  <thead>\n",
       "    <tr style=\"text-align: right;\">\n",
       "      <th></th>\n",
       "      <th>max_salary</th>\n",
       "      <th>min_salary</th>\n",
       "      <th>med_salary</th>\n",
       "    </tr>\n",
       "  </thead>\n",
       "  <tbody>\n",
       "    <tr>\n",
       "      <th>count</th>\n",
       "      <td>5.521000e+03</td>\n",
       "      <td>5521.000000</td>\n",
       "      <td>981.000000</td>\n",
       "    </tr>\n",
       "    <tr>\n",
       "      <th>mean</th>\n",
       "      <td>8.833622e+04</td>\n",
       "      <td>62352.218073</td>\n",
       "      <td>41167.664404</td>\n",
       "    </tr>\n",
       "    <tr>\n",
       "      <th>std</th>\n",
       "      <td>9.068282e+04</td>\n",
       "      <td>59487.692283</td>\n",
       "      <td>93682.094905</td>\n",
       "    </tr>\n",
       "    <tr>\n",
       "      <th>min</th>\n",
       "      <td>1.000000e+01</td>\n",
       "      <td>10.000000</td>\n",
       "      <td>10.000000</td>\n",
       "    </tr>\n",
       "    <tr>\n",
       "      <th>25%</th>\n",
       "      <td>4.800000e+01</td>\n",
       "      <td>38.000000</td>\n",
       "      <td>18.000000</td>\n",
       "    </tr>\n",
       "    <tr>\n",
       "      <th>50%</th>\n",
       "      <td>8.200000e+04</td>\n",
       "      <td>60000.000000</td>\n",
       "      <td>26.000000</td>\n",
       "    </tr>\n",
       "    <tr>\n",
       "      <th>75%</th>\n",
       "      <td>1.400000e+05</td>\n",
       "      <td>99000.000000</td>\n",
       "      <td>52000.000000</td>\n",
       "    </tr>\n",
       "    <tr>\n",
       "      <th>max</th>\n",
       "      <td>1.300000e+06</td>\n",
       "      <td>800000.000000</td>\n",
       "      <td>998426.000000</td>\n",
       "    </tr>\n",
       "  </tbody>\n",
       "</table>\n",
       "</div>"
      ],
      "text/plain": [
       "         max_salary     min_salary     med_salary\n",
       "count  5.521000e+03    5521.000000     981.000000\n",
       "mean   8.833622e+04   62352.218073   41167.664404\n",
       "std    9.068282e+04   59487.692283   93682.094905\n",
       "min    1.000000e+01      10.000000      10.000000\n",
       "25%    4.800000e+01      38.000000      18.000000\n",
       "50%    8.200000e+04   60000.000000      26.000000\n",
       "75%    1.400000e+05   99000.000000   52000.000000\n",
       "max    1.300000e+06  800000.000000  998426.000000"
      ]
     },
     "execution_count": 14,
     "metadata": {},
     "output_type": "execute_result"
    }
   ],
   "source": [
    "# Calculate descriptive statistics for the specified columns\n",
    "df[['max_salary', 'min_salary', 'med_salary']].describe()"
   ]
  },
  {
   "cell_type": "code",
   "execution_count": 15,
   "id": "efdc9892-0f6c-43d8-83a1-12b4d86bce08",
   "metadata": {},
   "outputs": [
    {
     "data": {
      "image/png": "[encoded data removed]",
      "text/plain": [
       "<Figure size 1200x500 with 2 Axes>"
      ]
     },
     "metadata": {},
     "output_type": "display_data"
    }
   ],
   "source": [
    "# Creating histograms for views and applies\n",
    "plt.figure(figsize=(12, 5))\n",
    "\n",
    "# Histogram for the 'views' column\n",
    "plt.subplot(1, 2, 1) # 1 row, 2 columns, first plot\n",
    "#plt.xlim(0, 2000)  # Set limits\n",
    "#plt.xticks([0, 250, 500, 750, 1000,1250,1500,1750,2000], rotation=45)  # Customize ticks and rotate labels\n",
    "plt.hist(df['views'], bins=10, color='blue', edgecolor='black')\n",
    "plt.title('Histogram of Views')\n",
    "plt.xlabel('Views')\n",
    "plt.ylabel('Frequency')\n",
    "\n",
    "# Histogram for the 'applies' column\n",
    "plt.subplot(1, 2, 2) # 1 row, 2 columns, second plot\n",
    "plt.hist(df['applies'], bins=10, color='green', edgecolor='black')\n",
    "plt.title('Histogram of Applies')\n",
    "plt.xlabel('Applies')\n",
    "plt.ylabel('Frequency')\n",
    "\n",
    "# Display the histograms\n",
    "plt.tight_layout()\n",
    "plt.show()"
   ]
  },
  {
   "cell_type": "code",
   "execution_count": 16,
   "id": "23a6f640-17c1-4a2e-8915-783a5d57add1",
   "metadata": {},
   "outputs": [
    {
     "data": {
      "image/png": "[encoded data removed]",
      "text/plain": [
       "<Figure size 800x500 with 1 Axes>"
      ]
     },
     "metadata": {},
     "output_type": "display_data"
    }
   ],
   "source": [
    "# Creating the scatter plot for views and applies\n",
    "plt.figure(figsize=(8, 5))  # Set the figure size\n",
    "plt.scatter(df['views'], df['applies'], color='blue', alpha=0.5)  # Plot data points\n",
    "\n",
    "# Adding title and labels\n",
    "plt.title('Scatter Plot of Views vs. Applies')\n",
    "plt.xlabel('Views')\n",
    "plt.ylabel('Applies')\n",
    "\n",
    "# Show the plot\n",
    "plt.grid(True)  # Add grid for better readability\n",
    "plt.show()"
   ]
  },
  {
   "cell_type": "code",
   "execution_count": null,
   "id": "f0c99f15-203b-4188-8a6e-7299e1d90aef",
   "metadata": {},
   "outputs": [],
   "source": [
    "#Part 3 Data Visualization and Matplotlib"
   ]
  },
  {
   "cell_type": "code",
   "execution_count": null,
   "id": "f91b6558-3d87-404b-9e12-0e48a8c02e72",
   "metadata": {},
   "outputs": [],
   "source": [
    "#Create a bar plot showing the number of jobs by work_type.\n",
    "#Customize your plots by adding labels, titles, and legends.\n",
    "# Counting the number of jobs by work_type\n",
    "job_counts = df['work_type'].value_counts()\n",
    "\n",
    "# Creating the bar plot\n",
    "job_counts.plot(kind='bar', color='skyblue', edgecolor='black')\n",
    "\n",
    "# Adding title and labels\n",
    "plt.title('Number of Jobs by Work Type')\n",
    "plt.xlabel('Work Type')\n",
    "plt.ylabel('Number of Jobs')\n",
    "\n",
    "# Show the plot\n",
    "plt.xticks(rotation=45)  # Rotate the x-axis labels for better readability\n",
    "plt.show()"
   ]
  },
  {
   "cell_type": "code",
   "execution_count": null,
   "id": "15c37520-6423-48fb-8e96-6883f5a2f1cf",
   "metadata": {},
   "outputs": [],
   "source": [
    "# Calculating max salary by work_type\n",
    "max_salary = df.groupby('work_type')['max_salary'].max().reset_index()\n",
    "\n",
    "# Sorting the DataFrame by work_type for a more logical order in the plot\n",
    "max_salary.sort_values('work_type', inplace=True)\n",
    "\n",
    "# Plotting the line graph\n",
    "plt.figure(figsize=(8, 5))\n",
    "plt.plot(max_salary['work_type'], max_salary['max_salary'], marker='o', linestyle='-', color='green')\n",
    "\n",
    "# Adding title and labels\n",
    "plt.title('Max Salary by Work Type')\n",
    "plt.xlabel('Work Type')\n",
    "plt.ylabel('Max Salary ($)')\n",
    "\n",
    "# Show the plot\n",
    "plt.grid(True)\n",
    "plt.show()"
   ]
  },
  {
   "cell_type": "code",
   "execution_count": null,
   "id": "3eb7b4c5-5d38-4f40-b9ff-f8ff0962f8db",
   "metadata": {},
   "outputs": [],
   "source": [
    "# Calculating min salary by work_type\n",
    "min_salary = df.groupby('work_type')['min_salary'].min().reset_index()\n",
    "\n",
    "# Sorting the DataFrame by work_type for a more logical order in the plot\n",
    "min_salary.sort_values('work_type', inplace=True)\n",
    "\n",
    "# Plotting the line graph\n",
    "plt.figure(figsize=(8, 5))\n",
    "plt.plot(min_salary['work_type'], min_salary['min_salary'], marker='o', linestyle='-', color='green')\n",
    "\n",
    "# Adding title and labels\n",
    "plt.title('Min Salary by Work Type')\n",
    "plt.xlabel('Work Type')\n",
    "plt.ylabel('Min Salary ($)')\n",
    "\n",
    "# Show the plot\n",
    "plt.grid(True)\n",
    "plt.show()"
   ]
  },
  {
   "cell_type": "code",
   "execution_count": null,
   "id": "275b16b0-03b7-4a3c-9258-2016dfa74e06",
   "metadata": {},
   "outputs": [],
   "source": [
    "#Part 4 Data Visualization with Seaborn"
   ]
  },
  {
   "cell_type": "code",
   "execution_count": null,
   "id": "3469c67e-ab6d-401b-a161-028b7a8cdd5d",
   "metadata": {},
   "outputs": [],
   "source": [
    "#Use Seaborn to create a pair plot of numerical variables like salaries and views.\n",
    "# Creating a pair plot\n",
    "sns.pairplot(df[['max_salary', 'views']])\n",
    "plt.show()"
   ]
  },
  {
   "cell_type": "code",
   "execution_count": null,
   "id": "4ce9bbc6-3b21-4b06-b25d-50cc7b13583e",
   "metadata": {},
   "outputs": [],
   "source": [
    "#Create a heatmap of correlations between numerical variables.\n",
    "# Calculating the correlation matrix\n",
    "corr = df[['max_salary', 'views']].corr()\n",
    "\n",
    "# Creating a heatmap for the correlation matrix\n",
    "plt.figure(figsize=(6, 4))\n",
    "sns.heatmap(corr, annot=True, cmap='coolwarm', fmt=\".2f\", linewidths=.5)\n",
    "plt.show()"
   ]
  },
  {
   "cell_type": "code",
   "execution_count": null,
   "id": "869d722b-b6c5-4ee3-9475-6799d7d8c51e",
   "metadata": {},
   "outputs": [],
   "source": []
  }
 ],
 "metadata": {
  "kernelspec": {
   "display_name": "Python [conda env:base] *",
   "language": "python",
   "name": "conda-base-py"
  },
  "language_info": {
   "codemirror_mode": {
    "name": "ipython",
    "version": 3
   },
   "file_extension": ".py",
   "mimetype": "text/x-python",
   "name": "python",
   "nbconvert_exporter": "python",
   "pygments_lexer": "ipython3",
   "version": "3.12.7"
  }
 },
 "nbformat": 4,
 "nbformat_minor": 5
}
