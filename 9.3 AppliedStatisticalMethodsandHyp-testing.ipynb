{
 "cells": [
  {
   "cell_type": "code",
   "execution_count": null,
   "id": "2c3b3820",
   "metadata": {},
   "outputs": [],
   "source": [
    "#If needed run this for packages\n",
    "!pip install pandas numpy statsmodels matplotlib\n"
   ]
  },
  {
   "cell_type": "code",
   "execution_count": null,
   "id": "ffb81f44",
   "metadata": {},
   "outputs": [],
   "source": [
    "#PART 1 work on conducting EDA and calculating measures of central tendency \n",
    "#and dispersion on the dataset.\n",
    "import pandas as pd\n",
    "import numpy as np\n",
    "from scipy import stats\n",
    "\n",
    "# Load dataset\n",
    "df = pd.read_csv('data.csv')\n",
    "\n",
    "# Display the first few rows of the dataframe\n",
    "print(df.head())\n",
    "\n",
    "# Calculate Measures of Central Tendency\n",
    "mean_val = df['Column1'].mean()\n",
    "median_val = df['Column1'].median()\n",
    "mode_val = df['Column1'].mode()[0]  # Mode might return multiple values\n",
    "\n",
    "print(f\"Mean: {mean_val}\")\n",
    "print(f\"Median: {median_val}\")\n",
    "print(f\"Mode: {mode_val}\")\n",
    "\n",
    "# Calculate Measures of Dispersion\n",
    "range_val = df['Column1'].max() - df['Column1'].min()\n",
    "variance_val = df['Column1'].var()\n",
    "std_dev_val = df['Column1'].std()\n",
    "\n",
    "print(f\"Range: {range_val}\")\n",
    "print(f\"Variance: {variance_val}\")\n",
    "print(f\"Standard Deviation: {std_dev_val}\")\n",
    "\n",
    "# You might also want to include other EDA steps like checking for null values,\n",
    "# understanding the distribution of your data, and visualizing the data.\n",
    "print(\"\\nChecking for null values:\")\n",
    "print(df.isnull().sum())\n",
    "\n",
    "# Describing the data to get an overview\n",
    "print(\"\\nData Description:\")\n",
    "print(df.describe())\n",
    "\n",
    "# For visualization, you can use matplotlib or seaborn to plot histograms, box plots, etc.\n",
    "# Example histogram for 'Column1'\n",
    "try:\n",
    "    import matplotlib.pyplot as plt\n",
    "    df['Column1'].hist(bins=20)\n",
    "    plt.title('Histogram of Column1')\n",
    "    plt.xlabel('Column1')\n",
    "    plt.ylabel('Frequency')\n",
    "    plt.show()\n",
    "except ImportError:\n",
    "    print(\"matplotlib is not installed. To visualize, please install matplotlib.\")\n",
    "\n"
   ]
  },
  {
   "cell_type": "code",
   "execution_count": null,
   "id": "1180c161",
   "metadata": {},
   "outputs": [],
   "source": [
    "#Part 2 conduct hypothesis testing on the dataset, \n",
    "#applying appropriate tests and interpreting results.\n",
    "\n",
    "import pandas as pd\n",
    "from scipy import stats\n",
    "\n",
    "# Hypothesis Test 1: Compare OverallSatisfactionRating between genders\n",
    "# Null hypothesis: There is no difference in satisfaction ratings between genders\n",
    "# Alternative hypothesis: There is a difference in satisfaction ratings between genders\n",
    "\n",
    "# Checking normality for OverallSatisfactionRating\n",
    "# We're using the Shapiro-Wilk test for normality here. For large datasets, consider using normaltest or visual inspection\n",
    "shapiro_gender_male = stats.shapiro(df[df['Gender'] == 'Male']['OverallSatisfactionRating'])\n",
    "shapiro_gender_female = stats.shapiro(df[df['Gender'] == 'Female']['OverallSatisfactionRating'])\n",
    "\n",
    "print(f\"Shapiro-Wilk Test for Male Satisfaction Ratings: {shapiro_gender_male}\")\n",
    "print(f\"Shapiro-Wilk Test for Female Satisfaction Ratings: {shapiro_gender_female}\")\n",
    "\n",
    "# If the p-value is less than 0.05, we reject the null hypothesis of normality\n",
    "# and should use a non-parametric test instead\n",
    "\n",
    "# Independent Samples T-Test or Mann-Whitney U Test\n",
    "if shapiro_gender_male.pvalue > 0.05 and shapiro_gender_female.pvalue > 0.05:\n",
    "    t_stat, t_p_value = stats.ttest_ind(df[df['Gender'] == 'Male']['OverallSatisfactionRating'],\n",
    "                                        df[df['Gender'] == 'Female']['OverallSatisfactionRating'])\n",
    "    print(f\"T-Test: t_statistic = {t_stat}, p_value = {t_p_value}\")\n",
    "else:\n",
    "    u_stat, u_p_value = stats.mannwhitneyu(df[df['Gender'] == 'Male']['OverallSatisfactionRating'],\n",
    "                                            df[df['Gender'] == 'Female']['OverallSatisfactionRating'])\n",
    "    print(f\"Mann-Whitney U Test: u_statistic = {u_stat}, p_value = {u_p_value}\")\n",
    "\n",
    "    \n",
    "###BONUS###\n",
    "# Hypothesis Test 2: Association between MembershipStatus and CustomerLoyaltyScore\n",
    "# Null hypothesis: There is no association between Membership Status and Customer Loyalty Score\n",
    "# Alternative hypothesis: There is an association between Membership Status and Customer Loyalty Score\n",
    "\n",
    "# Chi-Squared Test of Independence\n",
    "# We're using the pandas crosstab function to create a frequency table\n",
    "# and then apply the chi-squared test\n",
    "contingency_table = pd.crosstab(df['MembershipStatus'], df['CustomerLoyaltyScore'])\n",
    "chi2_stat, chi2_p_value, chi2_dof, _ = stats.chi2_contingency(contingency_table)\n",
    "\n",
    "print(f\"Chi-Squared Test: chi2_stat = {chi2_stat}, p_value = {chi2_p_value}\")\n",
    "\n"
   ]
  },
  {
   "cell_type": "code",
   "execution_count": null,
   "id": "8090d31e",
   "metadata": {},
   "outputs": [],
   "source": [
    "#Part 3 perform regression analysis on \n",
    "#the dataset, building and interpreting regression models.\n",
    "\n",
    "import pandas as pd\n",
    "import statsmodels.api as sm\n",
    "\n",
    "# Load the dataset\n",
    "df = pd.read_csv('data.csv')\n",
    "\n",
    "# For regression, we typically need to encode categorical variables as dummy variables (1s and 0s)\n",
    "# For simplicity, let's assume all the variables we're using are already numeric.\n",
    "\n",
    "# Defining the dependent and independent variables\n",
    "X = df[['OverallSatisfactionRating', 'Age', 'PurchaseAmount']]  # Independent variables\n",
    "y = df['CustomerLoyaltyScore']  # Dependent variable\n",
    "\n",
    "# Adding a constant to the model (intercept)\n",
    "X = sm.add_constant(X)\n",
    "\n",
    "# Building the regression model\n",
    "model = sm.OLS(y, X).fit()\n",
    "\n",
    "# Getting the summary of the regression\n",
    "summary = model.summary()\n",
    "print(summary)\n",
    "\n",
    "# Interpreting the model output:\n",
    "# - Look at the R-squared value to see the overall fit.\n",
    "# - Check the coefficients of each independent variable to understand their impact.\n",
    "# - The p-values will tell you if the variables are statistically significant.\n",
    "\n"
   ]
  },
  {
   "cell_type": "code",
   "execution_count": null,
   "id": "db46de49",
   "metadata": {},
   "outputs": [],
   "source": [
    "import pandas as pd\n",
    "import numpy as np\n",
    "from statsmodels.tsa.arima.model import ARIMA\n",
    "import matplotlib.pyplot as plt\n",
    "\n",
    "# Load the dataset\n",
    "df = pd.read_csv('data.csv')\n",
    "\n",
    "# Map the frequency strings to assumed numerical values (days)\n",
    "frequency_mapping = {\n",
    "    'daily': 1,\n",
    "    'weekly': 7,\n",
    "    'monthly': 30,\n",
    "    'rarely': 180  # Assuming 'rarely' means once every 6 months\n",
    "}\n",
    "\n",
    "# Apply the mapping to the 'Frequency' column\n",
    "df['NumericalFrequency'] = df['FrequencyofVisits'].map(frequency_mapping)\n",
    "\n",
    "# Group by this new numerical frequency and calculate the mean CustomerLoyaltyScore\n",
    "time_series_data = df.groupby('NumericalFrequency')['CustomerLoyaltyScore'].mean()\n",
    "\n",
    "# Now you have a time series of sorts, though it's not based on actual calendar time\n",
    "# We can still attempt to model this data with ARIMA, though the interpretation is not typical\n",
    "\n",
    "# The ARIMA model here is for demonstration purposes. You'll need to determine the (p,d,q) parameters.\n",
    "arima_model = ARIMA(time_series_data, order=(1,0,1))\n",
    "arima_results = arima_model.fit()\n",
    "\n",
    "# Print the summary\n",
    "print(arima_results.summary())"
   ]
  },
  {
   "cell_type": "code",
   "execution_count": 1,
   "id": "bf9e96a1-500a-4526-a91d-3fd4ca08a027",
   "metadata": {},
   "outputs": [],
   "source": [
    "#PART 1 work on conducting EDA and calculating measures of central tendency \n",
    "#and dispersion on the dataset.\n",
    "import pandas as pd\n",
    "import numpy as np\n",
    "from scipy import stats"
   ]
  },
  {
   "cell_type": "code",
   "execution_count": 2,
   "id": "1de67f82-46dc-4d00-95a2-17a835b6914c",
   "metadata": {},
   "outputs": [],
   "source": [
    "# Load dataset\n",
    "df = pd.read_csv('CustomerData3.csv')"
   ]
  },
  {
   "cell_type": "code",
   "execution_count": 3,
   "id": "b9c3e44b-00da-487c-b573-f0b5a351f493",
   "metadata": {},
   "outputs": [
    {
     "name": "stdout",
     "output_type": "stream",
     "text": [
      "   CustomerID  Age  Gender  ProductQualityRating  StoreCleanlinessRating  \\\n",
      "0           1   34    Male                     4                       5   \n",
      "1           2   28  Female                     5                       4   \n",
      "2           3   42    Male                     3                       3   \n",
      "3           4   50  Female                     4                       5   \n",
      "4           5   22    Male                     2                       2   \n",
      "\n",
      "   StaffFriendlinessRating  OverallSatisfactionRating  PurchaseAmount  \\\n",
      "0                        5                          4          120.50   \n",
      "1                        4                          5          155.75   \n",
      "2                        4                          3           75.20   \n",
      "3                        5                          5          220.00   \n",
      "4                        3                          2           45.80   \n",
      "\n",
      "  CustomerLocation FrequencyofVisits ProductCategory MembershipStatus  \\\n",
      "0           Oregon            Weekly     Electronics           Member   \n",
      "1            Texas           Monthly        Clothing       Non-Member   \n",
      "2          Vermont            Rarely       Groceries           Member   \n",
      "3          Alabama            Weekly     Electronics           Member   \n",
      "4           Nevada             Daily        Clothing       Non-Member   \n",
      "\n",
      "   CustomerLoyaltyScore  \n",
      "0                    85  \n",
      "1                    70  \n",
      "2                    92  \n",
      "3                    78  \n",
      "4                    60  \n"
     ]
    }
   ],
   "source": [
    "# Display the first few rows of the dataframe\n",
    "print(df.head())"
   ]
  },
  {
   "cell_type": "code",
   "execution_count": 5,
   "id": "8a956478-2a52-4e01-8267-109893d5c901",
   "metadata": {},
   "outputs": [
    {
     "name": "stdout",
     "output_type": "stream",
     "text": [
      "Mean: 104.65365269461078\n",
      "Median: 87.75\n",
      "Mode: 110.25\n"
     ]
    }
   ],
   "source": [
    "# Calculate Measures of Central Tendency\n",
    "mean_val = df['PurchaseAmount'].mean()\n",
    "median_val = df['PurchaseAmount'].median()\n",
    "mode_val = df['PurchaseAmount'].mode()[0]  # Mode might return multiple values\n",
    "\n",
    "print(f\"Mean: {mean_val}\")\n",
    "print(f\"Median: {median_val}\")\n",
    "print(f\"Mode: {mode_val}\")"
   ]
  },
  {
   "cell_type": "code",
   "execution_count": 6,
   "id": "4e44ef5c-c9c5-4d2e-957f-2dd6e4790fc8",
   "metadata": {},
   "outputs": [
    {
     "name": "stdout",
     "output_type": "stream",
     "text": [
      "Mean: 77.59904534606206\n",
      "Median: 78.0\n",
      "Mode: 88\n"
     ]
    }
   ],
   "source": [
    "# Calculate Measures of Central Tendency\n",
    "mean_val = df['CustomerLoyaltyScore'].mean()\n",
    "median_val = df['CustomerLoyaltyScore'].median()\n",
    "mode_val = df['CustomerLoyaltyScore'].mode()[0]  # Mode might return multiple values\n",
    "\n",
    "print(f\"Mean: {mean_val}\")\n",
    "print(f\"Median: {median_val}\")\n",
    "print(f\"Mode: {mode_val}\")"
   ]
  },
  {
   "cell_type": "code",
   "execution_count": 7,
   "id": "50e2b15e-91c9-4fb0-a23b-24e43adc2b0c",
   "metadata": {},
   "outputs": [
    {
     "name": "stdout",
     "output_type": "stream",
     "text": [
      "Mean: 40.585918854415276\n",
      "Median: 38.0\n",
      "Mode: 29\n"
     ]
    }
   ],
   "source": [
    "# Calculate Measures of Central Tendency\n",
    "mean_val = df['Age'].mean()\n",
    "median_val = df['Age'].median()\n",
    "mode_val = df['Age'].mode()[0]  # Mode might return multiple values\n",
    "\n",
    "print(f\"Mean: {mean_val}\")\n",
    "print(f\"Median: {median_val}\")\n",
    "print(f\"Mode: {mode_val}\")"
   ]
  },
  {
   "cell_type": "code",
   "execution_count": 8,
   "id": "bd4f2f5f-b9ac-4215-93ac-ac8612210bb6",
   "metadata": {},
   "outputs": [
    {
     "name": "stdout",
     "output_type": "stream",
     "text": [
      "Range: 293.31\n",
      "Variance: 5285.0978426370275\n",
      "Standard Deviation: 72.69867841052564\n"
     ]
    }
   ],
   "source": [
    "# Calculate Measures of Dispersion\n",
    "range_val = df['PurchaseAmount'].max() - df['PurchaseAmount'].min()\n",
    "variance_val = df['PurchaseAmount'].var()\n",
    "std_dev_val = df['PurchaseAmount'].std()\n",
    "\n",
    "print(f\"Range: {range_val}\")\n",
    "print(f\"Variance: {variance_val}\")\n",
    "print(f\"Standard Deviation: {std_dev_val}\")"
   ]
  },
  {
   "cell_type": "code",
   "execution_count": 9,
   "id": "6c0df593-28aa-4075-be38-7c07a432a067",
   "metadata": {},
   "outputs": [
    {
     "name": "stdout",
     "output_type": "stream",
     "text": [
      "Range: 32\n",
      "Variance: 98.08277089160914\n",
      "Standard Deviation: 9.903674615596433\n"
     ]
    }
   ],
   "source": [
    "# Calculate Measures of Dispersion\n",
    "range_val = df['CustomerLoyaltyScore'].max() - df['CustomerLoyaltyScore'].min()\n",
    "variance_val = df['CustomerLoyaltyScore'].var()\n",
    "std_dev_val = df['CustomerLoyaltyScore'].std()\n",
    "\n",
    "print(f\"Range: {range_val}\")\n",
    "print(f\"Variance: {variance_val}\")\n",
    "print(f\"Standard Deviation: {std_dev_val}\")"
   ]
  },
  {
   "cell_type": "code",
   "execution_count": 10,
   "id": "8c22609a-623b-409e-8fea-5d8a04a72c20",
   "metadata": {},
   "outputs": [
    {
     "name": "stdout",
     "output_type": "stream",
     "text": [
      "Range: 65\n",
      "Variance: 202.75664736258315\n",
      "Standard Deviation: 14.239264284455961\n"
     ]
    }
   ],
   "source": [
    "# Calculate Measures of Dispersion\n",
    "range_val = df['Age'].max() - df['Age'].min()\n",
    "variance_val = df['Age'].var()\n",
    "std_dev_val = df['Age'].std()\n",
    "\n",
    "print(f\"Range: {range_val}\")\n",
    "print(f\"Variance: {variance_val}\")\n",
    "print(f\"Standard Deviation: {std_dev_val}\")"
   ]
  },
  {
   "cell_type": "code",
   "execution_count": 11,
   "id": "84d42cd0-68a3-4f00-827d-ccf03e5820ed",
   "metadata": {},
   "outputs": [
    {
     "name": "stdout",
     "output_type": "stream",
     "text": [
      "\n",
      "Checking for null values:\n",
      "CustomerID                   0\n",
      "Age                          0\n",
      "Gender                       0\n",
      "ProductQualityRating         0\n",
      "StoreCleanlinessRating       0\n",
      "StaffFriendlinessRating      0\n",
      "OverallSatisfactionRating    0\n",
      "PurchaseAmount               3\n",
      "CustomerLocation             0\n",
      "FrequencyofVisits            0\n",
      "ProductCategory              0\n",
      "MembershipStatus             0\n",
      "CustomerLoyaltyScore         0\n",
      "dtype: int64\n"
     ]
    }
   ],
   "source": [
    "# You might also want to include other EDA steps like checking for null values,\n",
    "# understanding the distribution of your data, and visualizing the data.\n",
    "print(\"\\nChecking for null values:\")\n",
    "print(df.isnull().sum())"
   ]
  },
  {
   "cell_type": "code",
   "execution_count": 12,
   "id": "0482516f-477f-4853-85e3-a4145ea3819f",
   "metadata": {},
   "outputs": [
    {
     "name": "stdout",
     "output_type": "stream",
     "text": [
      "\n",
      "Data Description:\n",
      "       CustomerID         Age  ProductQualityRating  StoreCleanlinessRating  \\\n",
      "count  838.000000  838.000000            838.000000              838.000000   \n",
      "mean   419.500000   40.585919              3.661098                3.946301   \n",
      "std    242.054057   14.239264              0.929891                0.876198   \n",
      "min      1.000000   18.000000              2.000000                2.000000   \n",
      "25%    210.250000   29.000000              3.000000                3.000000   \n",
      "50%    419.500000   38.000000              4.000000                4.000000   \n",
      "75%    628.750000   50.000000              4.000000                5.000000   \n",
      "max    838.000000   83.000000              5.000000                5.000000   \n",
      "\n",
      "       StaffFriendlinessRating  OverallSatisfactionRating  PurchaseAmount  \\\n",
      "count               838.000000                 838.000000      835.000000   \n",
      "mean                  4.189737                   3.742243      104.653653   \n",
      "std                   0.745221                   0.955600       72.698678   \n",
      "min                   3.000000                   2.000000        5.990000   \n",
      "25%                   4.000000                   3.000000       48.525000   \n",
      "50%                   4.000000                   4.000000       87.750000   \n",
      "75%                   5.000000                   4.000000      147.000000   \n",
      "max                   5.000000                   5.000000      299.300000   \n",
      "\n",
      "       CustomerLoyaltyScore  \n",
      "count            838.000000  \n",
      "mean              77.599045  \n",
      "std                9.903675  \n",
      "min               60.000000  \n",
      "25%               70.000000  \n",
      "50%               78.000000  \n",
      "75%               88.000000  \n",
      "max               92.000000  \n"
     ]
    }
   ],
   "source": [
    "# Describing the data to get an overview\n",
    "print(\"\\nData Description:\")\n",
    "print(df.describe())\n"
   ]
  },
  {
   "cell_type": "code",
   "execution_count": 13,
   "id": "d66de4fb-6ffd-4089-a9ee-2c5cdb54533e",
   "metadata": {},
   "outputs": [
    {
     "data": {
      "image/png": "[encoded data removed]",
      "text/plain": [
       "<Figure size 640x480 with 1 Axes>"
      ]
     },
     "metadata": {},
     "output_type": "display_data"
    }
   ],
   "source": [
    "# For visualization, you can use matplotlib or seaborn to plot histograms, box plots, etc.\n",
    "# Example histogram for 'Column1'\n",
    "try:\n",
    "    import matplotlib.pyplot as plt\n",
    "    df['PurchaseAmount'].hist(bins=20)\n",
    "    plt.title('Histogram of PurchaseAmount')\n",
    "    plt.xlabel('PurchaseAmount')\n",
    "    plt.ylabel('Frequency')\n",
    "    plt.show()\n",
    "except ImportError:\n",
    "    print(\"matplotlib is not installed. To visualize, please install matplotlib.\")\n"
   ]
  },
  {
   "cell_type": "code",
   "execution_count": 17,
   "id": "ef7ec60a-7ea2-4641-a9a3-8286f9e0d0d0",
   "metadata": {},
   "outputs": [
    {
     "ename": "IndentationError",
     "evalue": "unexpected indent (422016755.py, line 3)",
     "output_type": "error",
     "traceback": [
      "\u001b[0;36m  Cell \u001b[0;32mIn[17], line 3\u001b[0;36m\u001b[0m\n\u001b[0;31m    plt.title('Histogram of Customer Loyalty Scores')\u001b[0m\n\u001b[0m    ^\u001b[0m\n\u001b[0;31mIndentationError\u001b[0m\u001b[0;31m:\u001b[0m unexpected indent\n"
     ]
    }
   ],
   "source": [
    "import matplotlib.pyplot as plt\n",
    "df['CustomerLoyaltyScore'].hist(bins=20)\n",
    "    plt.title('Histogram of Customer Loyalty Scores')\n",
    "    plt.xlabel('CustomerLoyaltyScore')\n",
    "    plt.ylabel('Frequency')\n",
    "    plt.show()\n",
    "except ImportError:\n",
    "    print(\"matplotlib is not installed. To visualize, please install matplotlib.\")"
   ]
  },
  {
   "cell_type": "code",
   "execution_count": 18,
   "id": "50b7a01a-a2f7-4547-980b-5e703aa58058",
   "metadata": {},
   "outputs": [
    {
     "data": {
      "image/png": "[encoded data removed]",
      "text/plain": [
       "<Figure size 640x480 with 1 Axes>"
      ]
     },
     "metadata": {},
     "output_type": "display_data"
    }
   ],
   "source": [
    "import matplotlib.pyplot as plt\n",
    "\n",
    "# Creating a histogram of 'CustomerLoyaltyScore'\n",
    "try:\n",
    "    df['CustomerLoyaltyScore'].hist(bins=20)\n",
    "    plt.title('Histogram of Customer Loyalty Scores')\n",
    "    plt.xlabel('Customer Loyalty Score')\n",
    "    plt.ylabel('Frequency')\n",
    "    plt.show()\n",
    "except ImportError:\n",
    "    print(\"matplotlib is not installed. To visualize, please install matplotlib.\")"
   ]
  },
  {
   "cell_type": "code",
   "execution_count": 19,
   "id": "6c6dc391-e09c-4f68-a393-d1a9bb2585b1",
   "metadata": {},
   "outputs": [
    {
     "data": {
      "image/png": "[encoded data removed]",
      "text/plain": [
       "<Figure size 640x480 with 1 Axes>"
      ]
     },
     "metadata": {},
     "output_type": "display_data"
    }
   ],
   "source": [
    "import matplotlib.pyplot as plt\n",
    "\n",
    "# Creating a histogram of 'Customer Age'\n",
    "try:\n",
    "    df['Age'].hist(bins=20)\n",
    "    plt.title('Histogram of Customer Age')\n",
    "    plt.xlabel('Age')\n",
    "    plt.ylabel('Frequency')\n",
    "    plt.show()\n",
    "except ImportError:\n",
    "    print(\"matplotlib is not installed. To visualize, please install matplotlib.\")"
   ]
  },
  {
   "cell_type": "code",
   "execution_count": 20,
   "id": "2519b88f-b60d-4651-809b-f76b5ee62483",
   "metadata": {},
   "outputs": [],
   "source": [
    "#Part 2 conduct hypothesis testing on the dataset, \n",
    "#applying appropriate tests and interpreting results.\n",
    "\n",
    "import pandas as pd\n",
    "from scipy import stats\n"
   ]
  },
  {
   "cell_type": "code",
   "execution_count": 21,
   "id": "6ad52422-ba88-4169-857a-ddf853d08a12",
   "metadata": {},
   "outputs": [
    {
     "name": "stdout",
     "output_type": "stream",
     "text": [
      "Shapiro-Wilk Test for Male Satisfaction Ratings: ShapiroResult(statistic=np.float64(0.7731970428962002), pvalue=np.float64(1.2462165572386006e-23))\n",
      "Shapiro-Wilk Test for Female Satisfaction Ratings: ShapiroResult(statistic=np.float64(0.8428829154232363), pvalue=np.float64(5.0385992305566326e-20))\n"
     ]
    }
   ],
   "source": [
    "# Hypothesis Test 1: Compare OverallSatisfactionRating between genders\n",
    "# Null hypothesis: There is no difference in satisfaction ratings between genders\n",
    "# Alternative hypothesis: There is a difference in satisfaction ratings between genders\n",
    "\n",
    "# Checking normality for OverallSatisfactionRating\n",
    "# We're using the Shapiro-Wilk test for normality here. For large datasets, consider using normaltest or visual inspection\n",
    "shapiro_gender_male = stats.shapiro(df[df['Gender'] == 'Male']['OverallSatisfactionRating'])\n",
    "shapiro_gender_female = stats.shapiro(df[df['Gender'] == 'Female']['OverallSatisfactionRating'])\n",
    "\n",
    "print(f\"Shapiro-Wilk Test for Male Satisfaction Ratings: {shapiro_gender_male}\")\n",
    "print(f\"Shapiro-Wilk Test for Female Satisfaction Ratings: {shapiro_gender_female}\")"
   ]
  },
  {
   "cell_type": "code",
   "execution_count": 22,
   "id": "4bbd0d71-f96e-47e4-a08b-88afd28b72b0",
   "metadata": {},
   "outputs": [
    {
     "name": "stdout",
     "output_type": "stream",
     "text": [
      "Mann-Whitney U Test: u_statistic = 114394.0, p_value = 1.8045247353255593e-15\n"
     ]
    }
   ],
   "source": [
    "# If the p-value is less than 0.05, we reject the null hypothesis of normality\n",
    "# and should use a non-parametric test instead\n",
    "\n",
    "# Independent Samples T-Test or Mann-Whitney U Test\n",
    "if shapiro_gender_male.pvalue > 0.05 and shapiro_gender_female.pvalue > 0.05:\n",
    "    t_stat, t_p_value = stats.ttest_ind(df[df['Gender'] == 'Male']['OverallSatisfactionRating'],\n",
    "                                        df[df['Gender'] == 'Female']['OverallSatisfactionRating'])\n",
    "    print(f\"T-Test: t_statistic = {t_stat}, p_value = {t_p_value}\")\n",
    "else:\n",
    "    u_stat, u_p_value = stats.mannwhitneyu(df[df['Gender'] == 'Male']['OverallSatisfactionRating'],\n",
    "                                            df[df['Gender'] == 'Female']['OverallSatisfactionRating'])\n",
    "    print(f\"Mann-Whitney U Test: u_statistic = {u_stat}, p_value = {u_p_value}\")"
   ]
  },
  {
   "cell_type": "code",
   "execution_count": 23,
   "id": "73822d0f-4a59-4957-a0d1-3fea992504ee",
   "metadata": {},
   "outputs": [],
   "source": [
    "#Part 3 perform regression analysis on \n",
    "#the dataset, building and interpreting regression models.\n",
    "\n",
    "import pandas as pd\n",
    "import statsmodels.api as sm"
   ]
  },
  {
   "cell_type": "code",
   "execution_count": 24,
   "id": "eb5bbb97-4337-4cb2-9540-2d65593f0ad1",
   "metadata": {},
   "outputs": [],
   "source": [
    "# Load the dataset\n",
    "df = pd.read_csv('CustomerData3.csv')"
   ]
  },
  {
   "cell_type": "code",
   "execution_count": 25,
   "id": "4607e89c-55fe-43a7-8f87-6347ecc37c22",
   "metadata": {},
   "outputs": [],
   "source": [
    "# For regression, we typically need to encode categorical variables as dummy variables (1s and 0s)\n",
    "# For simplicity, let's assume all the variables we're using are already numeric.\n",
    "\n",
    "# Defining the dependent and independent variables\n",
    "X = df[['OverallSatisfactionRating', 'Age', 'PurchaseAmount']]  # Independent variables\n",
    "y = df['CustomerLoyaltyScore']  # Dependent variable"
   ]
  },
  {
   "cell_type": "code",
   "execution_count": 27,
   "id": "78e45fa5-e46f-420b-a130-090cfebd198b",
   "metadata": {},
   "outputs": [
    {
     "ename": "ValueError",
     "evalue": "Must specify axis=0 or 1",
     "output_type": "error",
     "traceback": [
      "\u001b[0;31m---------------------------------------------------------------------------\u001b[0m",
      "\u001b[0;31mValueError\u001b[0m                                Traceback (most recent call last)",
      "\u001b[0;32m/var/folders/1r/mvtczjqx1195mf7wc0q6y_vc0000gn/T/ipykernel_38411/795681470.py\u001b[0m in \u001b[0;36m?\u001b[0;34m()\u001b[0m\n\u001b[1;32m      5\u001b[0m \u001b[0mX\u001b[0m \u001b[0;34m=\u001b[0m \u001b[0mX\u001b[0m\u001b[0;34m.\u001b[0m\u001b[0mdropna\u001b[0m\u001b[0;34m(\u001b[0m\u001b[0;34m)\u001b[0m\u001b[0;34m\u001b[0m\u001b[0;34m\u001b[0m\u001b[0m\n\u001b[1;32m      6\u001b[0m \u001b[0my\u001b[0m \u001b[0;34m=\u001b[0m \u001b[0my\u001b[0m\u001b[0;34m.\u001b[0m\u001b[0mdropna\u001b[0m\u001b[0;34m(\u001b[0m\u001b[0;34m)\u001b[0m\u001b[0;34m\u001b[0m\u001b[0;34m\u001b[0m\u001b[0m\n\u001b[1;32m      7\u001b[0m \u001b[0;34m\u001b[0m\u001b[0m\n\u001b[1;32m      8\u001b[0m \u001b[0;31m# Align both X and y to ensure rows with missing values are removed from both\u001b[0m\u001b[0;34m\u001b[0m\u001b[0;34m\u001b[0m\u001b[0m\n\u001b[0;32m----> 9\u001b[0;31m \u001b[0mX\u001b[0m\u001b[0;34m,\u001b[0m \u001b[0my\u001b[0m \u001b[0;34m=\u001b[0m \u001b[0mX\u001b[0m\u001b[0;34m.\u001b[0m\u001b[0malign\u001b[0m\u001b[0;34m(\u001b[0m\u001b[0my\u001b[0m\u001b[0;34m,\u001b[0m \u001b[0mjoin\u001b[0m\u001b[0;34m=\u001b[0m\u001b[0;34m'inner'\u001b[0m\u001b[0;34m)\u001b[0m\u001b[0;34m\u001b[0m\u001b[0;34m\u001b[0m\u001b[0m\n\u001b[0m\u001b[1;32m     10\u001b[0m \u001b[0;34m\u001b[0m\u001b[0m\n\u001b[1;32m     11\u001b[0m \u001b[0;31m# Building the regression model\u001b[0m\u001b[0;34m\u001b[0m\u001b[0;34m\u001b[0m\u001b[0m\n\u001b[1;32m     12\u001b[0m \u001b[0mmodel\u001b[0m \u001b[0;34m=\u001b[0m \u001b[0msm\u001b[0m\u001b[0;34m.\u001b[0m\u001b[0mOLS\u001b[0m\u001b[0;34m(\u001b[0m\u001b[0my\u001b[0m\u001b[0;34m,\u001b[0m \u001b[0mX\u001b[0m\u001b[0;34m)\u001b[0m\u001b[0;34m.\u001b[0m\u001b[0mfit\u001b[0m\u001b[0;34m(\u001b[0m\u001b[0;34m)\u001b[0m\u001b[0;34m\u001b[0m\u001b[0;34m\u001b[0m\u001b[0m\n",
      "\u001b[0;32m/Library/Frameworks/Python.framework/Versions/3.12/lib/python3.12/site-packages/pandas/core/generic.py\u001b[0m in \u001b[0;36m?\u001b[0;34m(self, other, join, axis, level, copy, fill_value, method, limit, fill_axis, broadcast_axis)\u001b[0m\n\u001b[1;32m  10443\u001b[0m                 \u001b[0mfill_axis\u001b[0m\u001b[0;34m=\u001b[0m\u001b[0mfill_axis\u001b[0m\u001b[0;34m,\u001b[0m\u001b[0;34m\u001b[0m\u001b[0;34m\u001b[0m\u001b[0m\n\u001b[1;32m  10444\u001b[0m             \u001b[0;34m)\u001b[0m\u001b[0;34m\u001b[0m\u001b[0;34m\u001b[0m\u001b[0m\n\u001b[1;32m  10445\u001b[0m \u001b[0;34m\u001b[0m\u001b[0m\n\u001b[1;32m  10446\u001b[0m         \u001b[0;32melif\u001b[0m \u001b[0misinstance\u001b[0m\u001b[0;34m(\u001b[0m\u001b[0mother\u001b[0m\u001b[0;34m,\u001b[0m \u001b[0mABCSeries\u001b[0m\u001b[0;34m)\u001b[0m\u001b[0;34m:\u001b[0m\u001b[0;34m\u001b[0m\u001b[0;34m\u001b[0m\u001b[0m\n\u001b[0;32m> 10447\u001b[0;31m             left, _right, join_index = self._align_series(\n\u001b[0m\u001b[1;32m  10448\u001b[0m                 \u001b[0mother\u001b[0m\u001b[0;34m,\u001b[0m\u001b[0;34m\u001b[0m\u001b[0;34m\u001b[0m\u001b[0m\n\u001b[1;32m  10449\u001b[0m                 \u001b[0mjoin\u001b[0m\u001b[0;34m=\u001b[0m\u001b[0mjoin\u001b[0m\u001b[0;34m,\u001b[0m\u001b[0;34m\u001b[0m\u001b[0;34m\u001b[0m\u001b[0m\n\u001b[1;32m  10450\u001b[0m                 \u001b[0maxis\u001b[0m\u001b[0;34m=\u001b[0m\u001b[0maxis\u001b[0m\u001b[0;34m,\u001b[0m\u001b[0;34m\u001b[0m\u001b[0;34m\u001b[0m\u001b[0m\n",
      "\u001b[0;32m/Library/Frameworks/Python.framework/Versions/3.12/lib/python3.12/site-packages/pandas/core/generic.py\u001b[0m in \u001b[0;36m?\u001b[0;34m(self, other, join, axis, level, copy, fill_value, method, limit, fill_axis)\u001b[0m\n\u001b[1;32m  10549\u001b[0m         \u001b[0;32mif\u001b[0m \u001b[0mcopy\u001b[0m \u001b[0;32mand\u001b[0m \u001b[0musing_copy_on_write\u001b[0m\u001b[0;34m(\u001b[0m\u001b[0;34m)\u001b[0m\u001b[0;34m:\u001b[0m\u001b[0;34m\u001b[0m\u001b[0;34m\u001b[0m\u001b[0m\n\u001b[1;32m  10550\u001b[0m             \u001b[0mcopy\u001b[0m \u001b[0;34m=\u001b[0m \u001b[0;32mFalse\u001b[0m\u001b[0;34m\u001b[0m\u001b[0;34m\u001b[0m\u001b[0m\n\u001b[1;32m  10551\u001b[0m \u001b[0;34m\u001b[0m\u001b[0m\n\u001b[1;32m  10552\u001b[0m         \u001b[0;32mif\u001b[0m \u001b[0;34m(\u001b[0m\u001b[0;32mnot\u001b[0m \u001b[0mis_series\u001b[0m \u001b[0;32mand\u001b[0m \u001b[0maxis\u001b[0m \u001b[0;32mis\u001b[0m \u001b[0;32mNone\u001b[0m\u001b[0;34m)\u001b[0m \u001b[0;32mor\u001b[0m \u001b[0maxis\u001b[0m \u001b[0;32mnot\u001b[0m \u001b[0;32min\u001b[0m \u001b[0;34m[\u001b[0m\u001b[0;32mNone\u001b[0m\u001b[0;34m,\u001b[0m \u001b[0;36m0\u001b[0m\u001b[0;34m,\u001b[0m \u001b[0;36m1\u001b[0m\u001b[0;34m]\u001b[0m\u001b[0;34m:\u001b[0m\u001b[0;34m\u001b[0m\u001b[0;34m\u001b[0m\u001b[0m\n\u001b[0;32m> 10553\u001b[0;31m             \u001b[0;32mraise\u001b[0m \u001b[0mValueError\u001b[0m\u001b[0;34m(\u001b[0m\u001b[0;34m\"Must specify axis=0 or 1\"\u001b[0m\u001b[0;34m)\u001b[0m\u001b[0;34m\u001b[0m\u001b[0;34m\u001b[0m\u001b[0m\n\u001b[0m\u001b[1;32m  10554\u001b[0m \u001b[0;34m\u001b[0m\u001b[0m\n\u001b[1;32m  10555\u001b[0m         \u001b[0;32mif\u001b[0m \u001b[0mis_series\u001b[0m \u001b[0;32mand\u001b[0m \u001b[0maxis\u001b[0m \u001b[0;34m==\u001b[0m \u001b[0;36m1\u001b[0m\u001b[0;34m:\u001b[0m\u001b[0;34m\u001b[0m\u001b[0;34m\u001b[0m\u001b[0m\n\u001b[1;32m  10556\u001b[0m             \u001b[0;32mraise\u001b[0m \u001b[0mValueError\u001b[0m\u001b[0;34m(\u001b[0m\u001b[0;34m\"cannot align series to a series other than axis 0\"\u001b[0m\u001b[0;34m)\u001b[0m\u001b[0;34m\u001b[0m\u001b[0;34m\u001b[0m\u001b[0m\n",
      "\u001b[0;31mValueError\u001b[0m: Must specify axis=0 or 1"
     ]
    }
   ],
   "source": [
    "import statsmodels.api as sm\n",
    "\n",
    "# Remove rows with missing values in both X and y\n",
    "X = sm.add_constant(X)  # Add a constant (intercept) to the model\n",
    "X = X.dropna()\n",
    "y = y.dropna()\n",
    "\n",
    "# Align both X and y to ensure rows with missing values are removed from both\n",
    "X, y = X.align(y, join='inner')\n",
    "\n",
    "# Building the regression model\n",
    "model = sm.OLS(y, X).fit()\n",
    "\n",
    "# Getting the summary of the regression\n",
    "summary = model.summary()\n",
    "print(summary)"
   ]
  },
  {
   "cell_type": "code",
   "execution_count": 28,
   "id": "6dd0c26c-6a01-4286-936d-cf4e79a76048",
   "metadata": {},
   "outputs": [
    {
     "name": "stdout",
     "output_type": "stream",
     "text": [
      "                             OLS Regression Results                             \n",
      "================================================================================\n",
      "Dep. Variable:     CustomerLoyaltyScore   R-squared:                       0.443\n",
      "Model:                              OLS   Adj. R-squared:                  0.441\n",
      "Method:                   Least Squares   F-statistic:                     220.8\n",
      "Date:                  Thu, 19 Sep 2024   Prob (F-statistic):          2.68e-105\n",
      "Time:                          19:31:57   Log-Likelihood:                -2855.4\n",
      "No. Observations:                   835   AIC:                             5719.\n",
      "Df Residuals:                       831   BIC:                             5738.\n",
      "Df Model:                             3                                         \n",
      "Covariance Type:              nonrobust                                         \n",
      "=============================================================================================\n",
      "                                coef    std err          t      P>|t|      [0.025      0.975]\n",
      "---------------------------------------------------------------------------------------------\n",
      "const                        51.3075      1.183     43.378      0.000      48.986      53.629\n",
      "OverallSatisfactionRating     6.8617      0.278     24.705      0.000       6.317       7.407\n",
      "Age                           0.0218      0.018      1.186      0.236      -0.014       0.058\n",
      "PurchaseAmount               -0.0026      0.004     -0.721      0.471      -0.010       0.004\n",
      "==============================================================================\n",
      "Omnibus:                       22.016   Durbin-Watson:                   3.007\n",
      "Prob(Omnibus):                  0.000   Jarque-Bera (JB):               27.588\n",
      "Skew:                           0.299   Prob(JB):                     1.02e-06\n",
      "Kurtosis:                       3.659   Cond. No.                         617.\n",
      "==============================================================================\n",
      "\n",
      "Notes:\n",
      "[1] Standard Errors assume that the covariance matrix of the errors is correctly specified.\n"
     ]
    }
   ],
   "source": [
    "import statsmodels.api as sm\n",
    "\n",
    "# Add a constant (intercept) to the model\n",
    "X = sm.add_constant(X)\n",
    "\n",
    "# Drop missing values (NaN) in both X and y\n",
    "X = X.dropna(axis=0)  # Drops rows with missing values\n",
    "y = y.dropna(axis=0)\n",
    "\n",
    "# Align X and y after dropping NaN values (inner join ensures consistency)\n",
    "X, y = X.align(y, join='inner', axis=0)\n",
    "\n",
    "# Build the regression model\n",
    "model = sm.OLS(y, X).fit()\n",
    "\n",
    "# Print the summary\n",
    "summary = model.summary()\n",
    "print(summary)"
   ]
  },
  {
   "cell_type": "code",
   "execution_count": 29,
   "id": "a1c7adde-c53d-4624-b878-2eac5ba8f484",
   "metadata": {},
   "outputs": [],
   "source": [
    "import pandas as pd\n",
    "import numpy as np\n",
    "from statsmodels.tsa.arima.model import ARIMA\n",
    "import matplotlib.pyplot as plt\n",
    "\n",
    "# Load the dataset\n",
    "df = pd.read_csv('CustomerData3.csv')"
   ]
  },
  {
   "cell_type": "code",
   "execution_count": 30,
   "id": "5c47bf72-64f8-4655-a123-72c79da84aba",
   "metadata": {},
   "outputs": [],
   "source": [
    "# Map the frequency strings to assumed numerical values (days)\n",
    "frequency_mapping = {\n",
    "    'daily': 1,\n",
    "    'weekly': 7,\n",
    "    'monthly': 30,\n",
    "    'rarely': 180  # Assuming 'rarely' means once every 6 months\n",
    "}"
   ]
  },
  {
   "cell_type": "code",
   "execution_count": 31,
   "id": "8c3409ce-e359-4cd0-b280-7730106844c8",
   "metadata": {},
   "outputs": [],
   "source": [
    "# Apply the mapping to the 'Frequency' column\n",
    "df['NumericalFrequency'] = df['FrequencyofVisits'].map(frequency_mapping)"
   ]
  },
  {
   "cell_type": "code",
   "execution_count": 32,
   "id": "c17646c1-4ef1-4dc5-84c3-d989c2dc50c0",
   "metadata": {},
   "outputs": [],
   "source": [
    "# Group by this new numerical frequency and calculate the mean CustomerLoyaltyScore\n",
    "time_series_data = df.groupby('NumericalFrequency')['CustomerLoyaltyScore'].mean()"
   ]
  },
  {
   "cell_type": "code",
   "execution_count": 33,
   "id": "48016b1e-ae4a-4b00-ac16-6223e4db2fa8",
   "metadata": {},
   "outputs": [
    {
     "ename": "ValueError",
     "evalue": "zero-size array to reduction operation maximum which has no identity",
     "output_type": "error",
     "traceback": [
      "\u001b[0;31m---------------------------------------------------------------------------\u001b[0m",
      "\u001b[0;31mValueError\u001b[0m                                Traceback (most recent call last)",
      "Cell \u001b[0;32mIn[33], line 5\u001b[0m\n\u001b[1;32m      1\u001b[0m \u001b[38;5;66;03m# Now you have a time series of sorts, though it's not based on actual calendar time\u001b[39;00m\n\u001b[1;32m      2\u001b[0m \u001b[38;5;66;03m# We can still attempt to model this data with ARIMA, though the interpretation is not typical\u001b[39;00m\n\u001b[1;32m      3\u001b[0m \n\u001b[1;32m      4\u001b[0m \u001b[38;5;66;03m# The ARIMA model here is for demonstration purposes. You'll need to determine the (p,d,q) parameters.\u001b[39;00m\n\u001b[0;32m----> 5\u001b[0m arima_model \u001b[38;5;241m=\u001b[39m \u001b[43mARIMA\u001b[49m\u001b[43m(\u001b[49m\u001b[43mtime_series_data\u001b[49m\u001b[43m,\u001b[49m\u001b[43m \u001b[49m\u001b[43morder\u001b[49m\u001b[38;5;241;43m=\u001b[39;49m\u001b[43m(\u001b[49m\u001b[38;5;241;43m1\u001b[39;49m\u001b[43m,\u001b[49m\u001b[38;5;241;43m0\u001b[39;49m\u001b[43m,\u001b[49m\u001b[38;5;241;43m1\u001b[39;49m\u001b[43m)\u001b[49m\u001b[43m)\u001b[49m\n\u001b[1;32m      6\u001b[0m arima_results \u001b[38;5;241m=\u001b[39m arima_model\u001b[38;5;241m.\u001b[39mfit()\n\u001b[1;32m      8\u001b[0m \u001b[38;5;66;03m# Print the summary\u001b[39;00m\n",
      "File \u001b[0;32m/Library/Frameworks/Python.framework/Versions/3.12/lib/python3.12/site-packages/statsmodels/tsa/arima/model.py:158\u001b[0m, in \u001b[0;36mARIMA.__init__\u001b[0;34m(self, endog, exog, order, seasonal_order, trend, enforce_stationarity, enforce_invertibility, concentrate_scale, trend_offset, dates, freq, missing, validate_specification)\u001b[0m\n\u001b[1;32m    151\u001b[0m     trend \u001b[38;5;241m=\u001b[39m \u001b[38;5;124m'\u001b[39m\u001b[38;5;124mn\u001b[39m\u001b[38;5;124m'\u001b[39m\n\u001b[1;32m    153\u001b[0m \u001b[38;5;66;03m# Construct the specification\u001b[39;00m\n\u001b[1;32m    154\u001b[0m \u001b[38;5;66;03m# (don't pass specific values of enforce stationarity/invertibility,\u001b[39;00m\n\u001b[1;32m    155\u001b[0m \u001b[38;5;66;03m# because we don't actually want to restrict the estimators based on\u001b[39;00m\n\u001b[1;32m    156\u001b[0m \u001b[38;5;66;03m# this criteria. Instead, we'll just make sure that the parameter\u001b[39;00m\n\u001b[1;32m    157\u001b[0m \u001b[38;5;66;03m# estimates from those methods satisfy the criteria.)\u001b[39;00m\n\u001b[0;32m--> 158\u001b[0m \u001b[38;5;28mself\u001b[39m\u001b[38;5;241m.\u001b[39m_spec_arima \u001b[38;5;241m=\u001b[39m \u001b[43mSARIMAXSpecification\u001b[49m\u001b[43m(\u001b[49m\n\u001b[1;32m    159\u001b[0m \u001b[43m    \u001b[49m\u001b[43mendog\u001b[49m\u001b[43m,\u001b[49m\u001b[43m \u001b[49m\u001b[43mexog\u001b[49m\u001b[38;5;241;43m=\u001b[39;49m\u001b[43mexog\u001b[49m\u001b[43m,\u001b[49m\u001b[43m \u001b[49m\u001b[43morder\u001b[49m\u001b[38;5;241;43m=\u001b[39;49m\u001b[43morder\u001b[49m\u001b[43m,\u001b[49m\u001b[43m \u001b[49m\u001b[43mseasonal_order\u001b[49m\u001b[38;5;241;43m=\u001b[39;49m\u001b[43mseasonal_order\u001b[49m\u001b[43m,\u001b[49m\n\u001b[1;32m    160\u001b[0m \u001b[43m    \u001b[49m\u001b[43mtrend\u001b[49m\u001b[38;5;241;43m=\u001b[39;49m\u001b[43mtrend\u001b[49m\u001b[43m,\u001b[49m\u001b[43m \u001b[49m\u001b[43menforce_stationarity\u001b[49m\u001b[38;5;241;43m=\u001b[39;49m\u001b[38;5;28;43;01mNone\u001b[39;49;00m\u001b[43m,\u001b[49m\u001b[43m \u001b[49m\u001b[43menforce_invertibility\u001b[49m\u001b[38;5;241;43m=\u001b[39;49m\u001b[38;5;28;43;01mNone\u001b[39;49;00m\u001b[43m,\u001b[49m\n\u001b[1;32m    161\u001b[0m \u001b[43m    \u001b[49m\u001b[43mconcentrate_scale\u001b[49m\u001b[38;5;241;43m=\u001b[39;49m\u001b[43mconcentrate_scale\u001b[49m\u001b[43m,\u001b[49m\u001b[43m \u001b[49m\u001b[43mtrend_offset\u001b[49m\u001b[38;5;241;43m=\u001b[39;49m\u001b[43mtrend_offset\u001b[49m\u001b[43m,\u001b[49m\n\u001b[1;32m    162\u001b[0m \u001b[43m    \u001b[49m\u001b[43mdates\u001b[49m\u001b[38;5;241;43m=\u001b[39;49m\u001b[43mdates\u001b[49m\u001b[43m,\u001b[49m\u001b[43m \u001b[49m\u001b[43mfreq\u001b[49m\u001b[38;5;241;43m=\u001b[39;49m\u001b[43mfreq\u001b[49m\u001b[43m,\u001b[49m\u001b[43m \u001b[49m\u001b[43mmissing\u001b[49m\u001b[38;5;241;43m=\u001b[39;49m\u001b[43mmissing\u001b[49m\u001b[43m,\u001b[49m\n\u001b[1;32m    163\u001b[0m \u001b[43m    \u001b[49m\u001b[43mvalidate_specification\u001b[49m\u001b[38;5;241;43m=\u001b[39;49m\u001b[43mvalidate_specification\u001b[49m\u001b[43m)\u001b[49m\n\u001b[1;32m    164\u001b[0m exog \u001b[38;5;241m=\u001b[39m \u001b[38;5;28mself\u001b[39m\u001b[38;5;241m.\u001b[39m_spec_arima\u001b[38;5;241m.\u001b[39m_model\u001b[38;5;241m.\u001b[39mdata\u001b[38;5;241m.\u001b[39morig_exog\n\u001b[1;32m    166\u001b[0m \u001b[38;5;66;03m# Raise an error if we have a constant in an integrated model\u001b[39;00m\n",
      "File \u001b[0;32m/Library/Frameworks/Python.framework/Versions/3.12/lib/python3.12/site-packages/statsmodels/tsa/arima/specification.py:446\u001b[0m, in \u001b[0;36mSARIMAXSpecification.__init__\u001b[0;34m(self, endog, exog, order, seasonal_order, ar_order, diff, ma_order, seasonal_ar_order, seasonal_diff, seasonal_ma_order, seasonal_periods, trend, enforce_stationarity, enforce_invertibility, concentrate_scale, trend_offset, dates, freq, missing, validate_specification)\u001b[0m\n\u001b[1;32m    441\u001b[0m         exog \u001b[38;5;241m=\u001b[39m np\u001b[38;5;241m.\u001b[39mc_[trend_data, exog]\n\u001b[1;32m    443\u001b[0m \u001b[38;5;66;03m# Create an underlying time series model, to handle endog / exog,\u001b[39;00m\n\u001b[1;32m    444\u001b[0m \u001b[38;5;66;03m# especially validating shapes, retrieving names, and potentially\u001b[39;00m\n\u001b[1;32m    445\u001b[0m \u001b[38;5;66;03m# providing us with a time series index\u001b[39;00m\n\u001b[0;32m--> 446\u001b[0m \u001b[38;5;28mself\u001b[39m\u001b[38;5;241m.\u001b[39m_model \u001b[38;5;241m=\u001b[39m \u001b[43mTimeSeriesModel\u001b[49m\u001b[43m(\u001b[49m\u001b[43mendog\u001b[49m\u001b[43m,\u001b[49m\u001b[43m \u001b[49m\u001b[43mexog\u001b[49m\u001b[38;5;241;43m=\u001b[39;49m\u001b[43mexog\u001b[49m\u001b[43m,\u001b[49m\u001b[43m \u001b[49m\u001b[43mdates\u001b[49m\u001b[38;5;241;43m=\u001b[39;49m\u001b[43mdates\u001b[49m\u001b[43m,\u001b[49m\u001b[43m \u001b[49m\u001b[43mfreq\u001b[49m\u001b[38;5;241;43m=\u001b[39;49m\u001b[43mfreq\u001b[49m\u001b[43m,\u001b[49m\n\u001b[1;32m    447\u001b[0m \u001b[43m                              \u001b[49m\u001b[43mmissing\u001b[49m\u001b[38;5;241;43m=\u001b[39;49m\u001b[43mmissing\u001b[49m\u001b[43m)\u001b[49m\n\u001b[1;32m    448\u001b[0m \u001b[38;5;28mself\u001b[39m\u001b[38;5;241m.\u001b[39mendog \u001b[38;5;241m=\u001b[39m \u001b[38;5;28;01mNone\u001b[39;00m \u001b[38;5;28;01mif\u001b[39;00m faux_endog \u001b[38;5;28;01melse\u001b[39;00m \u001b[38;5;28mself\u001b[39m\u001b[38;5;241m.\u001b[39m_model\u001b[38;5;241m.\u001b[39mendog\n\u001b[1;32m    449\u001b[0m \u001b[38;5;28mself\u001b[39m\u001b[38;5;241m.\u001b[39mexog \u001b[38;5;241m=\u001b[39m \u001b[38;5;28mself\u001b[39m\u001b[38;5;241m.\u001b[39m_model\u001b[38;5;241m.\u001b[39mexog\n",
      "File \u001b[0;32m/Library/Frameworks/Python.framework/Versions/3.12/lib/python3.12/site-packages/statsmodels/tsa/base/tsa_model.py:470\u001b[0m, in \u001b[0;36mTimeSeriesModel.__init__\u001b[0;34m(self, endog, exog, dates, freq, missing, **kwargs)\u001b[0m\n\u001b[1;32m    467\u001b[0m \u001b[38;5;28;01mdef\u001b[39;00m \u001b[38;5;21m__init__\u001b[39m(\n\u001b[1;32m    468\u001b[0m     \u001b[38;5;28mself\u001b[39m, endog, exog\u001b[38;5;241m=\u001b[39m\u001b[38;5;28;01mNone\u001b[39;00m, dates\u001b[38;5;241m=\u001b[39m\u001b[38;5;28;01mNone\u001b[39;00m, freq\u001b[38;5;241m=\u001b[39m\u001b[38;5;28;01mNone\u001b[39;00m, missing\u001b[38;5;241m=\u001b[39m\u001b[38;5;124m\"\u001b[39m\u001b[38;5;124mnone\u001b[39m\u001b[38;5;124m\"\u001b[39m, \u001b[38;5;241m*\u001b[39m\u001b[38;5;241m*\u001b[39mkwargs\n\u001b[1;32m    469\u001b[0m ):\n\u001b[0;32m--> 470\u001b[0m     \u001b[38;5;28;43msuper\u001b[39;49m\u001b[43m(\u001b[49m\u001b[43m)\u001b[49m\u001b[38;5;241;43m.\u001b[39;49m\u001b[38;5;21;43m__init__\u001b[39;49m\u001b[43m(\u001b[49m\u001b[43mendog\u001b[49m\u001b[43m,\u001b[49m\u001b[43m \u001b[49m\u001b[43mexog\u001b[49m\u001b[43m,\u001b[49m\u001b[43m \u001b[49m\u001b[43mmissing\u001b[49m\u001b[38;5;241;43m=\u001b[39;49m\u001b[43mmissing\u001b[49m\u001b[43m,\u001b[49m\u001b[43m \u001b[49m\u001b[38;5;241;43m*\u001b[39;49m\u001b[38;5;241;43m*\u001b[39;49m\u001b[43mkwargs\u001b[49m\u001b[43m)\u001b[49m\n\u001b[1;32m    472\u001b[0m     \u001b[38;5;66;03m# Date handling in indexes\u001b[39;00m\n\u001b[1;32m    473\u001b[0m     \u001b[38;5;28mself\u001b[39m\u001b[38;5;241m.\u001b[39m_init_dates(dates, freq)\n",
      "File \u001b[0;32m/Library/Frameworks/Python.framework/Versions/3.12/lib/python3.12/site-packages/statsmodels/base/model.py:270\u001b[0m, in \u001b[0;36mLikelihoodModel.__init__\u001b[0;34m(self, endog, exog, **kwargs)\u001b[0m\n\u001b[1;32m    269\u001b[0m \u001b[38;5;28;01mdef\u001b[39;00m \u001b[38;5;21m__init__\u001b[39m(\u001b[38;5;28mself\u001b[39m, endog, exog\u001b[38;5;241m=\u001b[39m\u001b[38;5;28;01mNone\u001b[39;00m, \u001b[38;5;241m*\u001b[39m\u001b[38;5;241m*\u001b[39mkwargs):\n\u001b[0;32m--> 270\u001b[0m     \u001b[38;5;28;43msuper\u001b[39;49m\u001b[43m(\u001b[49m\u001b[43m)\u001b[49m\u001b[38;5;241;43m.\u001b[39;49m\u001b[38;5;21;43m__init__\u001b[39;49m\u001b[43m(\u001b[49m\u001b[43mendog\u001b[49m\u001b[43m,\u001b[49m\u001b[43m \u001b[49m\u001b[43mexog\u001b[49m\u001b[43m,\u001b[49m\u001b[43m \u001b[49m\u001b[38;5;241;43m*\u001b[39;49m\u001b[38;5;241;43m*\u001b[39;49m\u001b[43mkwargs\u001b[49m\u001b[43m)\u001b[49m\n\u001b[1;32m    271\u001b[0m     \u001b[38;5;28mself\u001b[39m\u001b[38;5;241m.\u001b[39minitialize()\n",
      "File \u001b[0;32m/Library/Frameworks/Python.framework/Versions/3.12/lib/python3.12/site-packages/statsmodels/base/model.py:95\u001b[0m, in \u001b[0;36mModel.__init__\u001b[0;34m(self, endog, exog, **kwargs)\u001b[0m\n\u001b[1;32m     93\u001b[0m missing \u001b[38;5;241m=\u001b[39m kwargs\u001b[38;5;241m.\u001b[39mpop(\u001b[38;5;124m'\u001b[39m\u001b[38;5;124mmissing\u001b[39m\u001b[38;5;124m'\u001b[39m, \u001b[38;5;124m'\u001b[39m\u001b[38;5;124mnone\u001b[39m\u001b[38;5;124m'\u001b[39m)\n\u001b[1;32m     94\u001b[0m hasconst \u001b[38;5;241m=\u001b[39m kwargs\u001b[38;5;241m.\u001b[39mpop(\u001b[38;5;124m'\u001b[39m\u001b[38;5;124mhasconst\u001b[39m\u001b[38;5;124m'\u001b[39m, \u001b[38;5;28;01mNone\u001b[39;00m)\n\u001b[0;32m---> 95\u001b[0m \u001b[38;5;28mself\u001b[39m\u001b[38;5;241m.\u001b[39mdata \u001b[38;5;241m=\u001b[39m \u001b[38;5;28;43mself\u001b[39;49m\u001b[38;5;241;43m.\u001b[39;49m\u001b[43m_handle_data\u001b[49m\u001b[43m(\u001b[49m\u001b[43mendog\u001b[49m\u001b[43m,\u001b[49m\u001b[43m \u001b[49m\u001b[43mexog\u001b[49m\u001b[43m,\u001b[49m\u001b[43m \u001b[49m\u001b[43mmissing\u001b[49m\u001b[43m,\u001b[49m\u001b[43m \u001b[49m\u001b[43mhasconst\u001b[49m\u001b[43m,\u001b[49m\n\u001b[1;32m     96\u001b[0m \u001b[43m                              \u001b[49m\u001b[38;5;241;43m*\u001b[39;49m\u001b[38;5;241;43m*\u001b[39;49m\u001b[43mkwargs\u001b[49m\u001b[43m)\u001b[49m\n\u001b[1;32m     97\u001b[0m \u001b[38;5;28mself\u001b[39m\u001b[38;5;241m.\u001b[39mk_constant \u001b[38;5;241m=\u001b[39m \u001b[38;5;28mself\u001b[39m\u001b[38;5;241m.\u001b[39mdata\u001b[38;5;241m.\u001b[39mk_constant\n\u001b[1;32m     98\u001b[0m \u001b[38;5;28mself\u001b[39m\u001b[38;5;241m.\u001b[39mexog \u001b[38;5;241m=\u001b[39m \u001b[38;5;28mself\u001b[39m\u001b[38;5;241m.\u001b[39mdata\u001b[38;5;241m.\u001b[39mexog\n",
      "File \u001b[0;32m/Library/Frameworks/Python.framework/Versions/3.12/lib/python3.12/site-packages/statsmodels/base/model.py:135\u001b[0m, in \u001b[0;36mModel._handle_data\u001b[0;34m(self, endog, exog, missing, hasconst, **kwargs)\u001b[0m\n\u001b[1;32m    134\u001b[0m \u001b[38;5;28;01mdef\u001b[39;00m \u001b[38;5;21m_handle_data\u001b[39m(\u001b[38;5;28mself\u001b[39m, endog, exog, missing, hasconst, \u001b[38;5;241m*\u001b[39m\u001b[38;5;241m*\u001b[39mkwargs):\n\u001b[0;32m--> 135\u001b[0m     data \u001b[38;5;241m=\u001b[39m \u001b[43mhandle_data\u001b[49m\u001b[43m(\u001b[49m\u001b[43mendog\u001b[49m\u001b[43m,\u001b[49m\u001b[43m \u001b[49m\u001b[43mexog\u001b[49m\u001b[43m,\u001b[49m\u001b[43m \u001b[49m\u001b[43mmissing\u001b[49m\u001b[43m,\u001b[49m\u001b[43m \u001b[49m\u001b[43mhasconst\u001b[49m\u001b[43m,\u001b[49m\u001b[43m \u001b[49m\u001b[38;5;241;43m*\u001b[39;49m\u001b[38;5;241;43m*\u001b[39;49m\u001b[43mkwargs\u001b[49m\u001b[43m)\u001b[49m\n\u001b[1;32m    136\u001b[0m     \u001b[38;5;66;03m# kwargs arrays could have changed, easier to just attach here\u001b[39;00m\n\u001b[1;32m    137\u001b[0m     \u001b[38;5;28;01mfor\u001b[39;00m key \u001b[38;5;129;01min\u001b[39;00m kwargs:\n",
      "File \u001b[0;32m/Library/Frameworks/Python.framework/Versions/3.12/lib/python3.12/site-packages/statsmodels/base/data.py:675\u001b[0m, in \u001b[0;36mhandle_data\u001b[0;34m(endog, exog, missing, hasconst, **kwargs)\u001b[0m\n\u001b[1;32m    672\u001b[0m     exog \u001b[38;5;241m=\u001b[39m np\u001b[38;5;241m.\u001b[39masarray(exog)\n\u001b[1;32m    674\u001b[0m klass \u001b[38;5;241m=\u001b[39m handle_data_class_factory(endog, exog)\n\u001b[0;32m--> 675\u001b[0m \u001b[38;5;28;01mreturn\u001b[39;00m \u001b[43mklass\u001b[49m\u001b[43m(\u001b[49m\u001b[43mendog\u001b[49m\u001b[43m,\u001b[49m\u001b[43m \u001b[49m\u001b[43mexog\u001b[49m\u001b[38;5;241;43m=\u001b[39;49m\u001b[43mexog\u001b[49m\u001b[43m,\u001b[49m\u001b[43m \u001b[49m\u001b[43mmissing\u001b[49m\u001b[38;5;241;43m=\u001b[39;49m\u001b[43mmissing\u001b[49m\u001b[43m,\u001b[49m\u001b[43m \u001b[49m\u001b[43mhasconst\u001b[49m\u001b[38;5;241;43m=\u001b[39;49m\u001b[43mhasconst\u001b[49m\u001b[43m,\u001b[49m\n\u001b[1;32m    676\u001b[0m \u001b[43m             \u001b[49m\u001b[38;5;241;43m*\u001b[39;49m\u001b[38;5;241;43m*\u001b[39;49m\u001b[43mkwargs\u001b[49m\u001b[43m)\u001b[49m\n",
      "File \u001b[0;32m/Library/Frameworks/Python.framework/Versions/3.12/lib/python3.12/site-packages/statsmodels/base/data.py:88\u001b[0m, in \u001b[0;36mModelData.__init__\u001b[0;34m(self, endog, exog, missing, hasconst, **kwargs)\u001b[0m\n\u001b[1;32m     86\u001b[0m \u001b[38;5;28mself\u001b[39m\u001b[38;5;241m.\u001b[39mconst_idx \u001b[38;5;241m=\u001b[39m \u001b[38;5;28;01mNone\u001b[39;00m\n\u001b[1;32m     87\u001b[0m \u001b[38;5;28mself\u001b[39m\u001b[38;5;241m.\u001b[39mk_constant \u001b[38;5;241m=\u001b[39m \u001b[38;5;241m0\u001b[39m\n\u001b[0;32m---> 88\u001b[0m \u001b[38;5;28;43mself\u001b[39;49m\u001b[38;5;241;43m.\u001b[39;49m\u001b[43m_handle_constant\u001b[49m\u001b[43m(\u001b[49m\u001b[43mhasconst\u001b[49m\u001b[43m)\u001b[49m\n\u001b[1;32m     89\u001b[0m \u001b[38;5;28mself\u001b[39m\u001b[38;5;241m.\u001b[39m_check_integrity()\n\u001b[1;32m     90\u001b[0m \u001b[38;5;28mself\u001b[39m\u001b[38;5;241m.\u001b[39m_cache \u001b[38;5;241m=\u001b[39m {}\n",
      "File \u001b[0;32m/Library/Frameworks/Python.framework/Versions/3.12/lib/python3.12/site-packages/statsmodels/base/data.py:132\u001b[0m, in \u001b[0;36mModelData._handle_constant\u001b[0;34m(self, hasconst)\u001b[0m\n\u001b[1;32m    129\u001b[0m \u001b[38;5;28;01melse\u001b[39;00m:\n\u001b[1;32m    130\u001b[0m     \u001b[38;5;66;03m# detect where the constant is\u001b[39;00m\n\u001b[1;32m    131\u001b[0m     check_implicit \u001b[38;5;241m=\u001b[39m \u001b[38;5;28;01mFalse\u001b[39;00m\n\u001b[0;32m--> 132\u001b[0m     exog_max \u001b[38;5;241m=\u001b[39m \u001b[43mnp\u001b[49m\u001b[38;5;241;43m.\u001b[39;49m\u001b[43mmax\u001b[49m\u001b[43m(\u001b[49m\u001b[38;5;28;43mself\u001b[39;49m\u001b[38;5;241;43m.\u001b[39;49m\u001b[43mexog\u001b[49m\u001b[43m,\u001b[49m\u001b[43m \u001b[49m\u001b[43maxis\u001b[49m\u001b[38;5;241;43m=\u001b[39;49m\u001b[38;5;241;43m0\u001b[39;49m\u001b[43m)\u001b[49m\n\u001b[1;32m    133\u001b[0m     \u001b[38;5;28;01mif\u001b[39;00m \u001b[38;5;129;01mnot\u001b[39;00m np\u001b[38;5;241m.\u001b[39misfinite(exog_max)\u001b[38;5;241m.\u001b[39mall():\n\u001b[1;32m    134\u001b[0m         \u001b[38;5;28;01mraise\u001b[39;00m MissingDataError(\u001b[38;5;124m'\u001b[39m\u001b[38;5;124mexog contains inf or nans\u001b[39m\u001b[38;5;124m'\u001b[39m)\n",
      "File \u001b[0;32m/Library/Frameworks/Python.framework/Versions/3.12/lib/python3.12/site-packages/numpy/_core/fromnumeric.py:2899\u001b[0m, in \u001b[0;36mmax\u001b[0;34m(a, axis, out, keepdims, initial, where)\u001b[0m\n\u001b[1;32m   2781\u001b[0m \u001b[38;5;129m@array_function_dispatch\u001b[39m(_max_dispatcher)\n\u001b[1;32m   2782\u001b[0m \u001b[38;5;129m@set_module\u001b[39m(\u001b[38;5;124m'\u001b[39m\u001b[38;5;124mnumpy\u001b[39m\u001b[38;5;124m'\u001b[39m)\n\u001b[1;32m   2783\u001b[0m \u001b[38;5;28;01mdef\u001b[39;00m \u001b[38;5;21mmax\u001b[39m(a, axis\u001b[38;5;241m=\u001b[39m\u001b[38;5;28;01mNone\u001b[39;00m, out\u001b[38;5;241m=\u001b[39m\u001b[38;5;28;01mNone\u001b[39;00m, keepdims\u001b[38;5;241m=\u001b[39mnp\u001b[38;5;241m.\u001b[39m_NoValue, initial\u001b[38;5;241m=\u001b[39mnp\u001b[38;5;241m.\u001b[39m_NoValue,\n\u001b[1;32m   2784\u001b[0m          where\u001b[38;5;241m=\u001b[39mnp\u001b[38;5;241m.\u001b[39m_NoValue):\n\u001b[1;32m   2785\u001b[0m \u001b[38;5;250m    \u001b[39m\u001b[38;5;124;03m\"\"\"\u001b[39;00m\n\u001b[1;32m   2786\u001b[0m \u001b[38;5;124;03m    Return the maximum of an array or maximum along an axis.\u001b[39;00m\n\u001b[1;32m   2787\u001b[0m \n\u001b[0;32m   (...)\u001b[0m\n\u001b[1;32m   2897\u001b[0m \u001b[38;5;124;03m    5\u001b[39;00m\n\u001b[1;32m   2898\u001b[0m \u001b[38;5;124;03m    \"\"\"\u001b[39;00m\n\u001b[0;32m-> 2899\u001b[0m     \u001b[38;5;28;01mreturn\u001b[39;00m \u001b[43m_wrapreduction\u001b[49m\u001b[43m(\u001b[49m\u001b[43ma\u001b[49m\u001b[43m,\u001b[49m\u001b[43m \u001b[49m\u001b[43mnp\u001b[49m\u001b[38;5;241;43m.\u001b[39;49m\u001b[43mmaximum\u001b[49m\u001b[43m,\u001b[49m\u001b[43m \u001b[49m\u001b[38;5;124;43m'\u001b[39;49m\u001b[38;5;124;43mmax\u001b[39;49m\u001b[38;5;124;43m'\u001b[39;49m\u001b[43m,\u001b[49m\u001b[43m \u001b[49m\u001b[43maxis\u001b[49m\u001b[43m,\u001b[49m\u001b[43m \u001b[49m\u001b[38;5;28;43;01mNone\u001b[39;49;00m\u001b[43m,\u001b[49m\u001b[43m \u001b[49m\u001b[43mout\u001b[49m\u001b[43m,\u001b[49m\n\u001b[1;32m   2900\u001b[0m \u001b[43m                          \u001b[49m\u001b[43mkeepdims\u001b[49m\u001b[38;5;241;43m=\u001b[39;49m\u001b[43mkeepdims\u001b[49m\u001b[43m,\u001b[49m\u001b[43m \u001b[49m\u001b[43minitial\u001b[49m\u001b[38;5;241;43m=\u001b[39;49m\u001b[43minitial\u001b[49m\u001b[43m,\u001b[49m\u001b[43m \u001b[49m\u001b[43mwhere\u001b[49m\u001b[38;5;241;43m=\u001b[39;49m\u001b[43mwhere\u001b[49m\u001b[43m)\u001b[49m\n",
      "File \u001b[0;32m/Library/Frameworks/Python.framework/Versions/3.12/lib/python3.12/site-packages/numpy/_core/fromnumeric.py:86\u001b[0m, in \u001b[0;36m_wrapreduction\u001b[0;34m(obj, ufunc, method, axis, dtype, out, **kwargs)\u001b[0m\n\u001b[1;32m     83\u001b[0m         \u001b[38;5;28;01melse\u001b[39;00m:\n\u001b[1;32m     84\u001b[0m             \u001b[38;5;28;01mreturn\u001b[39;00m reduction(axis\u001b[38;5;241m=\u001b[39maxis, out\u001b[38;5;241m=\u001b[39mout, \u001b[38;5;241m*\u001b[39m\u001b[38;5;241m*\u001b[39mpasskwargs)\n\u001b[0;32m---> 86\u001b[0m \u001b[38;5;28;01mreturn\u001b[39;00m \u001b[43mufunc\u001b[49m\u001b[38;5;241;43m.\u001b[39;49m\u001b[43mreduce\u001b[49m\u001b[43m(\u001b[49m\u001b[43mobj\u001b[49m\u001b[43m,\u001b[49m\u001b[43m \u001b[49m\u001b[43maxis\u001b[49m\u001b[43m,\u001b[49m\u001b[43m \u001b[49m\u001b[43mdtype\u001b[49m\u001b[43m,\u001b[49m\u001b[43m \u001b[49m\u001b[43mout\u001b[49m\u001b[43m,\u001b[49m\u001b[43m \u001b[49m\u001b[38;5;241;43m*\u001b[39;49m\u001b[38;5;241;43m*\u001b[39;49m\u001b[43mpasskwargs\u001b[49m\u001b[43m)\u001b[49m\n",
      "\u001b[0;31mValueError\u001b[0m: zero-size array to reduction operation maximum which has no identity"
     ]
    }
   ],
   "source": [
    "# Now you have a time series of sorts, though it's not based on actual calendar time\n",
    "# We can still attempt to model this data with ARIMA, though the interpretation is not typical\n",
    "\n",
    "# The ARIMA model here is for demonstration purposes. You'll need to determine the (p,d,q) parameters.\n",
    "arima_model = ARIMA(time_series_data, order=(1,0,1))\n",
    "arima_results = arima_model.fit()\n",
    "\n",
    "# Print the summary\n",
    "print(arima_results.summary())"
   ]
  },
  {
   "cell_type": "code",
   "execution_count": null,
   "id": "3e021b7e-8569-4a7f-88e0-721b5ffc845b",
   "metadata": {},
   "outputs": [],
   "source": [
    "# Now you have a time series of sorts, though it's not based on actual calendar time\n",
    "# We can still attempt to model this data with ARIMA, though the interpretation is not typical\n",
    "\n",
    "# The ARIMA model here is for demonstration purposes. You'll need to determine the (p,d,q) parameters.\n",
    "arima_model = ARIMA(time_series_data, order=(1,0,1))\n",
    "arima_results = arima_model.fit()\n",
    "\n",
    "# Print the summary\n",
    "print(arima_results.summary())"
   ]
  }
 ],
 "metadata": {
  "kernelspec": {
   "display_name": "Python [conda env:base] *",
   "language": "python",
   "name": "conda-base-py"
  },
  "language_info": {
   "codemirror_mode": {
    "name": "ipython",
    "version": 3
   },
   "file_extension": ".py",
   "mimetype": "text/x-python",
   "name": "python",
   "nbconvert_exporter": "python",
   "pygments_lexer": "ipython3",
   "version": "3.12.7"
  }
 },
 "nbformat": 4,
 "nbformat_minor": 5
}
